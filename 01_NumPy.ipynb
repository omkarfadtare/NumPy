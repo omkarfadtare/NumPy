{
 "cells": [
  {
   "cell_type": "markdown",
   "id": "c879509f",
   "metadata": {},
   "source": [
    "# NumPy"
   ]
  },
  {
   "cell_type": "code",
   "execution_count": 2,
   "id": "21589831",
   "metadata": {},
   "outputs": [],
   "source": [
    "import numpy as np"
   ]
  },
  {
   "cell_type": "markdown",
   "id": "2d5740fd",
   "metadata": {},
   "source": [
    "`What is Numpy?`\n",
    "- NumPy is a scientific computing library in python which enables you to perform wide range of mathematical oprations on arrays."
   ]
  },
  {
   "cell_type": "markdown",
   "id": "4659c5a8",
   "metadata": {},
   "source": [
    "`What is array?`\n",
    "- An array is usually a fixed-size container of items of the same type and size.\n",
    "- An array is a grid of values having similar data type, which contains information about the raw data, how to locate an element, and how to interpret an element.\n",
    "- The number of dimensions and items in an array is defined by its shape."
   ]
  },
  {
   "cell_type": "markdown",
   "id": "71065b14",
   "metadata": {},
   "source": [
    "`**note`\n",
    "- In NumPy, dimensions are called axes. x axis(rows) and y axis(columns)"
   ]
  },
  {
   "cell_type": "markdown",
   "id": "f043ae28",
   "metadata": {},
   "source": [
    "`What is shape of an array?`\n",
    "- The number of dimensions and items in an array is defined by its shape.\n",
    "- The shape of an array is a tuple of non-negative integers that specify the sizes of each dimension."
   ]
  },
  {
   "cell_type": "markdown",
   "id": "036c6469",
   "metadata": {},
   "source": [
    "`What is mean by ndarray?`\n",
    "- ndarray is a homogeneous n-dimensional array object or a class, possessing numerous methods and attributes."
   ]
  },
  {
   "cell_type": "markdown",
   "id": "33a40c78",
   "metadata": {},
   "source": [
    "`What’s the difference between a Python list and a NumPy array?`\n",
    "- NumPy gives you a wide range of fast and efficient ways of creating arrays and manipulating numerical data inside them, since the data type of all the elements in numpy array should be homogeneous (same). Whereas in Python, list can contain different data types within a single list which makes mathematical operations that are meant to be performed would be extremely inefficient\n",
    "- NumPy arrays are faster and more compact than Python lists. Also, an array consumes less memory and is convenient to use. It provides a mechanism of specifying the data types."
   ]
  },
  {
   "cell_type": "markdown",
   "id": "93e10976",
   "metadata": {},
   "source": [
    "### Creating an array\n",
    "Use nested list for creating n dimensional arrays."
   ]
  },
  {
   "cell_type": "markdown",
   "id": "eb2ed1a9",
   "metadata": {},
   "source": [
    "`dtype`\n",
    "- The default data type is floating point (np.float64), you can specify which data type you want using the dtype keyword."
   ]
  },
  {
   "cell_type": "markdown",
   "id": "7c4a121e",
   "metadata": {},
   "source": [
    "#### 1) np.array()\n",
    "- Pass a list to np.array() to create a simple array. You can also specify the type of data in your list.\n",
    "- `Syntax: numpy.array(list of elements, dtype=float)`"
   ]
  },
  {
   "cell_type": "code",
   "execution_count": 41,
   "id": "25ecdfce",
   "metadata": {},
   "outputs": [
    {
     "name": "stdout",
     "output_type": "stream",
     "text": [
      "<class 'numpy.ndarray'>\n",
      "This is a '0' dimensional array\n",
      "200.0\n"
     ]
    }
   ],
   "source": [
    "# Zero dimensional array\n",
    "\n",
    "arr = np.array(200,dtype=float)\n",
    "print(type(arr))\n",
    "print(f\"This is a '{arr.ndim}' dimensional array\")\n",
    "print(arr)"
   ]
  },
  {
   "cell_type": "code",
   "execution_count": 13,
   "id": "e728dd0f",
   "metadata": {},
   "outputs": [
    {
     "name": "stdout",
     "output_type": "stream",
     "text": [
      "<class 'numpy.ndarray'>\n",
      "This is a '1' dimensional array\n",
      "[1 2 3 4 5 6 7 8 9]\n"
     ]
    }
   ],
   "source": [
    "# One dimensional array\n",
    "\n",
    "arr = np.array([1,2,3,4,5,6,7,8,9]) # 1 is at '0th' index position, 2 is at '1st' index position and so on..\n",
    "print(type(arr))\n",
    "print(f\"This is a '{arr.ndim}' dimensional array\")\n",
    "print(arr)"
   ]
  },
  {
   "cell_type": "code",
   "execution_count": 14,
   "id": "254f3d17",
   "metadata": {},
   "outputs": [
    {
     "name": "stdout",
     "output_type": "stream",
     "text": [
      "<class 'numpy.ndarray'>\n",
      "This is a '2' dimensional array\n",
      "[[1 2 3]\n",
      " [4 5 6]\n",
      " [7 8 9]]\n"
     ]
    }
   ],
   "source": [
    "# Two dimensional array\n",
    "\n",
    "arr = np.array([[1,2,3],[4,5,6],[7,8,9]]) # [1,2,3] is at '0th' index position, [4,5,6] is at '1st' index position and so on..\n",
    "print(type(arr))\n",
    "print(f\"This is a '{arr.ndim}' dimensional array\")\n",
    "print(arr)"
   ]
  },
  {
   "cell_type": "code",
   "execution_count": 80,
   "id": "8e02b682",
   "metadata": {},
   "outputs": [
    {
     "name": "stdout",
     "output_type": "stream",
     "text": [
      "<class 'numpy.ndarray'>\n",
      "This is a '3' dimensional array\n",
      "[[[1 2]\n",
      "  [3 4]\n",
      "  [5 6]\n",
      "  [7 8]]]\n"
     ]
    }
   ],
   "source": [
    "# Three dimensional array\n",
    "\n",
    "arr = np.array([[[1,2],[3,4],[5,6],[7,8]]]) # [1,2] is at '0th' index position, [3,4] is at '1st' index position and so on..\n",
    "print(type(arr))\n",
    "print(f\"This is a '{arr.ndim}' dimensional array\")\n",
    "print(arr)"
   ]
  },
  {
   "cell_type": "markdown",
   "id": "79cf48c1",
   "metadata": {},
   "source": [
    "#### 2) np.zeros()\n",
    "- creates an array filled with zeros\n",
    "- `Syntax: numpy.zeros((matrix,rows,columns), dtype=float)`"
   ]
  },
  {
   "cell_type": "code",
   "execution_count": 39,
   "id": "83ae70f1",
   "metadata": {},
   "outputs": [
    {
     "data": {
      "text/plain": [
       "array([0., 0., 0., 0., 0., 0.])"
      ]
     },
     "execution_count": 39,
     "metadata": {},
     "output_type": "execute_result"
    }
   ],
   "source": [
    "arr = np.zeros(6)\n",
    "arr"
   ]
  },
  {
   "cell_type": "code",
   "execution_count": 48,
   "id": "4e70b7ba",
   "metadata": {},
   "outputs": [
    {
     "data": {
      "text/plain": [
       "array([[0., 0., 0.],\n",
       "       [0., 0., 0.],\n",
       "       [0., 0., 0.],\n",
       "       [0., 0., 0.]])"
      ]
     },
     "execution_count": 48,
     "metadata": {},
     "output_type": "execute_result"
    }
   ],
   "source": [
    "arr = np.zeros((4,3))\n",
    "arr"
   ]
  },
  {
   "cell_type": "markdown",
   "id": "93630112",
   "metadata": {},
   "source": [
    "#### 3) np.ones()\n",
    "- creates an array filled with ones\n",
    "- `Syntax: numpy.ones((matrix,rows,columns), dtype=float)`"
   ]
  },
  {
   "cell_type": "code",
   "execution_count": 42,
   "id": "876b4da0",
   "metadata": {},
   "outputs": [
    {
     "data": {
      "text/plain": [
       "array([1., 1., 1., 1., 1., 1.])"
      ]
     },
     "execution_count": 42,
     "metadata": {},
     "output_type": "execute_result"
    }
   ],
   "source": [
    "arr = np.ones(6)\n",
    "arr"
   ]
  },
  {
   "cell_type": "code",
   "execution_count": 49,
   "id": "5198e794",
   "metadata": {},
   "outputs": [
    {
     "data": {
      "text/plain": [
       "array([[1., 1., 1.],\n",
       "       [1., 1., 1.],\n",
       "       [1., 1., 1.],\n",
       "       [1., 1., 1.]])"
      ]
     },
     "execution_count": 49,
     "metadata": {},
     "output_type": "execute_result"
    }
   ],
   "source": [
    "arr = np.ones((4,3),dtype=float)\n",
    "arr"
   ]
  },
  {
   "cell_type": "markdown",
   "id": "e6b7c95b",
   "metadata": {},
   "source": [
    "#### 4) np.empty()\n",
    "- creates an array whose initial content is random and depends on the state of the memory.\n",
    "- we can change those random numbers later.\n",
    "- `Syntax: numpy.empty(shape, dtype=float)`"
   ]
  },
  {
   "cell_type": "code",
   "execution_count": 56,
   "id": "071cd9a7",
   "metadata": {},
   "outputs": [
    {
     "data": {
      "text/plain": [
       "array([8.84905772e-312, 8.84905772e-312, 8.84905772e-312, 8.84905772e-312])"
      ]
     },
     "execution_count": 56,
     "metadata": {},
     "output_type": "execute_result"
    }
   ],
   "source": [
    "arr = np.empty(4)\n",
    "arr"
   ]
  },
  {
   "cell_type": "code",
   "execution_count": 77,
   "id": "5cac73b4",
   "metadata": {},
   "outputs": [
    {
     "name": "stdout",
     "output_type": "stream",
     "text": [
      "[[        0         1         0 976301616       880         0       768\n",
      "          0         0         0]]\n",
      "[[0 1 2 3 4 5 6 7 8 9]]\n"
     ]
    }
   ],
   "source": [
    "arr = np.empty((1,10),dtype=int)\n",
    "print(arr)\n",
    "for i in range(1,10):\n",
    "    arr[:,i] = i  \n",
    "print(arr)"
   ]
  },
  {
   "cell_type": "markdown",
   "id": "1943c601",
   "metadata": {},
   "source": [
    "#### 5) np.arange()\n",
    "- create an array with a range of elements\n",
    "- `Syntax: numpy.arange(start, stop, step, dtype=float)`"
   ]
  },
  {
   "cell_type": "code",
   "execution_count": 59,
   "id": "335d9398",
   "metadata": {},
   "outputs": [
    {
     "data": {
      "text/plain": [
       "array([ 1.,  3.,  5.,  7.,  9., 11.])"
      ]
     },
     "execution_count": 59,
     "metadata": {},
     "output_type": "execute_result"
    }
   ],
   "source": [
    "arr = np.arange(1, 12, 2, dtype=float)\n",
    "arr"
   ]
  },
  {
   "cell_type": "code",
   "execution_count": 60,
   "id": "bf6a39e8",
   "metadata": {},
   "outputs": [
    {
     "data": {
      "text/plain": [
       "array([12., 10.,  8.,  6.,  4.,  2.])"
      ]
     },
     "execution_count": 60,
     "metadata": {},
     "output_type": "execute_result"
    }
   ],
   "source": [
    "arr = np.arange(12, 1, -2, dtype=float)\n",
    "arr"
   ]
  },
  {
   "cell_type": "markdown",
   "id": "0d324cc0",
   "metadata": {},
   "source": [
    "#### 6) np.linspace()\n",
    "- creates an array with values that are spaced linearly in a specified interval(evenly spaced). \n",
    "- `Syntax: np.linspace(from, to, number you want, dtype )`"
   ]
  },
  {
   "cell_type": "code",
   "execution_count": 64,
   "id": "340466a9",
   "metadata": {},
   "outputs": [
    {
     "data": {
      "text/plain": [
       "array([1.  , 1.25, 1.5 , 1.75, 2.  ])"
      ]
     },
     "execution_count": 64,
     "metadata": {},
     "output_type": "execute_result"
    }
   ],
   "source": [
    "arr = np.linspace(1,2,5,dtype=float)\n",
    "arr"
   ]
  },
  {
   "cell_type": "code",
   "execution_count": 63,
   "id": "260ea514",
   "metadata": {},
   "outputs": [
    {
     "data": {
      "text/plain": [
       "array([ 1.        ,  5.08333333,  9.16666667, 13.25      , 17.33333333,\n",
       "       21.41666667, 25.5       , 29.58333333, 33.66666667, 37.75      ,\n",
       "       41.83333333, 45.91666667, 50.        ])"
      ]
     },
     "execution_count": 63,
     "metadata": {},
     "output_type": "execute_result"
    }
   ],
   "source": [
    "arr = np.linspace(1,50,13,dtype=float)\n",
    "arr"
   ]
  },
  {
   "cell_type": "code",
   "execution_count": 65,
   "id": "ac149bad",
   "metadata": {},
   "outputs": [
    {
     "data": {
      "text/plain": [
       "array([20, 19, 18, 17, 16, 15, 14, 13, 12, 11])"
      ]
     },
     "execution_count": 65,
     "metadata": {},
     "output_type": "execute_result"
    }
   ],
   "source": [
    "arr = np.arange(20,10,-1)\n",
    "arr"
   ]
  },
  {
   "cell_type": "markdown",
   "id": "3cf9b612",
   "metadata": {},
   "source": [
    "#### 7) np.random"
   ]
  },
  {
   "cell_type": "markdown",
   "id": "a6926dee",
   "metadata": {},
   "source": [
    "##### np.random.rand()\n",
    "- Creates an array of the given shape and populate it with random values.\n",
    "- `Syntax: random.rand(matrix,row,column)`"
   ]
  },
  {
   "cell_type": "code",
   "execution_count": 78,
   "id": "1c0795e7",
   "metadata": {},
   "outputs": [
    {
     "data": {
      "text/plain": [
       "array([0.91333197, 0.4228397 , 0.67012032, 0.80727839, 0.84410389])"
      ]
     },
     "execution_count": 78,
     "metadata": {},
     "output_type": "execute_result"
    }
   ],
   "source": [
    "arr = np.random.rand(5) # 1D array\n",
    "arr"
   ]
  },
  {
   "cell_type": "code",
   "execution_count": 83,
   "id": "a769d72a",
   "metadata": {},
   "outputs": [
    {
     "data": {
      "text/plain": [
       "array([[0.73884589, 0.18861293, 0.44000348, 0.19304967, 0.60726277],\n",
       "       [0.34241879, 0.82464174, 0.04491673, 0.63541137, 0.38220489],\n",
       "       [0.92021124, 0.90721993, 0.22644928, 0.66210831, 0.83095327]])"
      ]
     },
     "execution_count": 83,
     "metadata": {},
     "output_type": "execute_result"
    }
   ],
   "source": [
    "arr = np.random.rand(3,5) # 2D array\n",
    "arr"
   ]
  },
  {
   "cell_type": "code",
   "execution_count": 81,
   "id": "223e2f8d",
   "metadata": {},
   "outputs": [
    {
     "data": {
      "text/plain": [
       "array([[[0.37613432, 0.46477588, 0.51139298],\n",
       "        [0.55448074, 0.87079237, 0.53840377],\n",
       "        [0.30248274, 0.81454074, 0.58880679]],\n",
       "\n",
       "       [[0.52725382, 0.70575667, 0.53060526],\n",
       "        [0.51091901, 0.12605659, 0.64385193],\n",
       "        [0.51924873, 0.81129997, 0.37025859]]])"
      ]
     },
     "execution_count": 81,
     "metadata": {},
     "output_type": "execute_result"
    }
   ],
   "source": [
    "arr = np.random.rand(2,3,3) # 3D array\n",
    "arr"
   ]
  },
  {
   "cell_type": "code",
   "execution_count": 86,
   "id": "05be517c",
   "metadata": {},
   "outputs": [
    {
     "data": {
      "text/html": [
       "<div>\n",
       "<style scoped>\n",
       "    .dataframe tbody tr th:only-of-type {\n",
       "        vertical-align: middle;\n",
       "    }\n",
       "\n",
       "    .dataframe tbody tr th {\n",
       "        vertical-align: top;\n",
       "    }\n",
       "\n",
       "    .dataframe thead th {\n",
       "        text-align: right;\n",
       "    }\n",
       "</style>\n",
       "<table border=\"1\" class=\"dataframe\">\n",
       "  <thead>\n",
       "    <tr style=\"text-align: right;\">\n",
       "      <th></th>\n",
       "      <th>0</th>\n",
       "      <th>1</th>\n",
       "      <th>2</th>\n",
       "      <th>3</th>\n",
       "      <th>4</th>\n",
       "    </tr>\n",
       "  </thead>\n",
       "  <tbody>\n",
       "    <tr>\n",
       "      <th>0</th>\n",
       "      <td>0.738846</td>\n",
       "      <td>0.188613</td>\n",
       "      <td>0.440003</td>\n",
       "      <td>0.193050</td>\n",
       "      <td>0.607263</td>\n",
       "    </tr>\n",
       "    <tr>\n",
       "      <th>1</th>\n",
       "      <td>0.342419</td>\n",
       "      <td>0.824642</td>\n",
       "      <td>0.044917</td>\n",
       "      <td>0.635411</td>\n",
       "      <td>0.382205</td>\n",
       "    </tr>\n",
       "    <tr>\n",
       "      <th>2</th>\n",
       "      <td>0.920211</td>\n",
       "      <td>0.907220</td>\n",
       "      <td>0.226449</td>\n",
       "      <td>0.662108</td>\n",
       "      <td>0.830953</td>\n",
       "    </tr>\n",
       "  </tbody>\n",
       "</table>\n",
       "</div>"
      ],
      "text/plain": [
       "          0         1         2         3         4\n",
       "0  0.738846  0.188613  0.440003  0.193050  0.607263\n",
       "1  0.342419  0.824642  0.044917  0.635411  0.382205\n",
       "2  0.920211  0.907220  0.226449  0.662108  0.830953"
      ]
     },
     "execution_count": 86,
     "metadata": {},
     "output_type": "execute_result"
    }
   ],
   "source": [
    "# We can convert an array to a DataFrame\n",
    "\n",
    "import pandas as pd\n",
    "df = pd.DataFrame(arr)\n",
    "df"
   ]
  },
  {
   "cell_type": "markdown",
   "id": "6114be78",
   "metadata": {},
   "source": [
    "##### np.random.randint()\n",
    "- returns an array filled with random values within a given range\n",
    "- `Syntax: np.random.randint(from,to,numbers_want)`"
   ]
  },
  {
   "cell_type": "code",
   "execution_count": 88,
   "id": "8009f104",
   "metadata": {},
   "outputs": [
    {
     "data": {
      "text/plain": [
       "array([13, 19,  8,  2,  7,  3,  5, 17, 11,  6, 19,  3, 16])"
      ]
     },
     "execution_count": 88,
     "metadata": {},
     "output_type": "execute_result"
    }
   ],
   "source": [
    "arr = np.random.randint(1,20,13) # 1D array\n",
    "arr"
   ]
  },
  {
   "cell_type": "code",
   "execution_count": 89,
   "id": "ffc4d200",
   "metadata": {},
   "outputs": [
    {
     "data": {
      "text/plain": [
       "array([[17, 19, 27, 13, 16, 17],\n",
       "       [16, 29, 28, 17, 17, 22],\n",
       "       [25, 24, 22, 18, 21, 24],\n",
       "       [18, 26, 27, 11, 14, 13],\n",
       "       [19, 13, 27, 22, 10, 22]])"
      ]
     },
     "execution_count": 89,
     "metadata": {},
     "output_type": "execute_result"
    }
   ],
   "source": [
    "array = np.random.randint(10,30,size = (5,6)) # 2D array\n",
    "array"
   ]
  },
  {
   "cell_type": "code",
   "execution_count": 99,
   "id": "0485c362",
   "metadata": {},
   "outputs": [
    {
     "data": {
      "text/plain": [
       "array([[[29, 15, 25, 22, 27, 14],\n",
       "        [10, 13, 10, 15, 16, 16],\n",
       "        [18, 29, 16, 23, 28, 13],\n",
       "        [24, 28, 23, 12, 11, 16],\n",
       "        [12, 23, 11, 15, 29, 10]],\n",
       "\n",
       "       [[10, 13, 18, 15, 29, 23],\n",
       "        [25, 24, 28, 12, 12, 27],\n",
       "        [24, 17, 10, 23, 10, 16],\n",
       "        [29, 26, 20, 26, 18, 28],\n",
       "        [16, 20, 16, 27, 21, 16]]])"
      ]
     },
     "execution_count": 99,
     "metadata": {},
     "output_type": "execute_result"
    }
   ],
   "source": [
    "array = np.random.randint(10,30,size = (2,5,6)) # 3D array: 2matrix, 2rows, 2columns\n",
    "array"
   ]
  },
  {
   "cell_type": "markdown",
   "id": "9ea907fe",
   "metadata": {},
   "source": [
    "##### np.random.randn()\n",
    "- returns an array of standard normal distribution\n",
    "- `Syntax: np.random.randn(matrix,row,column)`"
   ]
  },
  {
   "cell_type": "code",
   "execution_count": 97,
   "id": "69ac2e98",
   "metadata": {},
   "outputs": [
    {
     "data": {
      "text/plain": [
       "array([-0.75130599,  0.78016587, -1.15512788,  0.34831274, -0.40757302])"
      ]
     },
     "execution_count": 97,
     "metadata": {},
     "output_type": "execute_result"
    }
   ],
   "source": [
    "arr = np.random.randn(5) # 1D array\n",
    "arr"
   ]
  },
  {
   "cell_type": "code",
   "execution_count": 98,
   "id": "3e55f96b",
   "metadata": {},
   "outputs": [
    {
     "data": {
      "text/plain": [
       "array([[ 2.13917559, -0.94540287,  0.99795014],\n",
       "       [ 0.86253532, -0.27178752,  1.03167918]])"
      ]
     },
     "execution_count": 98,
     "metadata": {},
     "output_type": "execute_result"
    }
   ],
   "source": [
    "arr = np.random.randn(2,3) # 2D array\n",
    "arr"
   ]
  },
  {
   "cell_type": "code",
   "execution_count": 95,
   "id": "cf3dd6fb",
   "metadata": {},
   "outputs": [
    {
     "data": {
      "text/plain": [
       "array([[[-0.02582339,  0.66903352, -0.44621026, -0.58432615,\n",
       "         -0.38875114],\n",
       "        [-0.44908898, -0.62597714,  1.22646412,  0.55421403,\n",
       "         -1.32796264]],\n",
       "\n",
       "       [[-1.76972548,  0.81482191,  0.5408674 , -0.27779025,\n",
       "          0.13128173],\n",
       "        [-0.55360599, -0.20343062,  0.45593054, -0.48821332,\n",
       "         -0.71429955]]])"
      ]
     },
     "execution_count": 95,
     "metadata": {},
     "output_type": "execute_result"
    }
   ],
   "source": [
    "arr = np.random.randn(2,2,5) # 3D array: 2matrix, 2rows, 2columns\n",
    "arr"
   ]
  },
  {
   "cell_type": "code",
   "execution_count": 100,
   "id": "01aba349",
   "metadata": {},
   "outputs": [
    {
     "data": {
      "text/html": [
       "<div>\n",
       "<style scoped>\n",
       "    .dataframe tbody tr th:only-of-type {\n",
       "        vertical-align: middle;\n",
       "    }\n",
       "\n",
       "    .dataframe tbody tr th {\n",
       "        vertical-align: top;\n",
       "    }\n",
       "\n",
       "    .dataframe thead th {\n",
       "        text-align: right;\n",
       "    }\n",
       "</style>\n",
       "<table border=\"1\" class=\"dataframe\">\n",
       "  <thead>\n",
       "    <tr style=\"text-align: right;\">\n",
       "      <th></th>\n",
       "      <th>zeros</th>\n",
       "      <th>ones</th>\n",
       "      <th>arange</th>\n",
       "      <th>linspace</th>\n",
       "      <th>randint</th>\n",
       "      <th>randn</th>\n",
       "    </tr>\n",
       "  </thead>\n",
       "  <tbody>\n",
       "    <tr>\n",
       "      <th>0</th>\n",
       "      <td>0</td>\n",
       "      <td>1</td>\n",
       "      <td>101</td>\n",
       "      <td>10.000000</td>\n",
       "      <td>36</td>\n",
       "      <td>0.052557</td>\n",
       "    </tr>\n",
       "    <tr>\n",
       "      <th>1</th>\n",
       "      <td>0</td>\n",
       "      <td>1</td>\n",
       "      <td>102</td>\n",
       "      <td>31.111111</td>\n",
       "      <td>37</td>\n",
       "      <td>2.753055</td>\n",
       "    </tr>\n",
       "    <tr>\n",
       "      <th>2</th>\n",
       "      <td>0</td>\n",
       "      <td>1</td>\n",
       "      <td>103</td>\n",
       "      <td>52.222222</td>\n",
       "      <td>48</td>\n",
       "      <td>0.561387</td>\n",
       "    </tr>\n",
       "    <tr>\n",
       "      <th>3</th>\n",
       "      <td>0</td>\n",
       "      <td>1</td>\n",
       "      <td>104</td>\n",
       "      <td>73.333333</td>\n",
       "      <td>33</td>\n",
       "      <td>1.446954</td>\n",
       "    </tr>\n",
       "    <tr>\n",
       "      <th>4</th>\n",
       "      <td>0</td>\n",
       "      <td>1</td>\n",
       "      <td>105</td>\n",
       "      <td>94.444444</td>\n",
       "      <td>32</td>\n",
       "      <td>-0.044723</td>\n",
       "    </tr>\n",
       "    <tr>\n",
       "      <th>5</th>\n",
       "      <td>0</td>\n",
       "      <td>1</td>\n",
       "      <td>106</td>\n",
       "      <td>115.555556</td>\n",
       "      <td>27</td>\n",
       "      <td>0.683078</td>\n",
       "    </tr>\n",
       "    <tr>\n",
       "      <th>6</th>\n",
       "      <td>0</td>\n",
       "      <td>1</td>\n",
       "      <td>107</td>\n",
       "      <td>136.666667</td>\n",
       "      <td>20</td>\n",
       "      <td>-0.300926</td>\n",
       "    </tr>\n",
       "    <tr>\n",
       "      <th>7</th>\n",
       "      <td>0</td>\n",
       "      <td>1</td>\n",
       "      <td>108</td>\n",
       "      <td>157.777778</td>\n",
       "      <td>39</td>\n",
       "      <td>-1.056497</td>\n",
       "    </tr>\n",
       "    <tr>\n",
       "      <th>8</th>\n",
       "      <td>0</td>\n",
       "      <td>1</td>\n",
       "      <td>109</td>\n",
       "      <td>178.888889</td>\n",
       "      <td>48</td>\n",
       "      <td>0.895912</td>\n",
       "    </tr>\n",
       "    <tr>\n",
       "      <th>9</th>\n",
       "      <td>0</td>\n",
       "      <td>1</td>\n",
       "      <td>110</td>\n",
       "      <td>200.000000</td>\n",
       "      <td>35</td>\n",
       "      <td>1.629603</td>\n",
       "    </tr>\n",
       "  </tbody>\n",
       "</table>\n",
       "</div>"
      ],
      "text/plain": [
       "   zeros  ones  arange    linspace  randint     randn\n",
       "0      0     1     101   10.000000       36  0.052557\n",
       "1      0     1     102   31.111111       37  2.753055\n",
       "2      0     1     103   52.222222       48  0.561387\n",
       "3      0     1     104   73.333333       33  1.446954\n",
       "4      0     1     105   94.444444       32 -0.044723\n",
       "5      0     1     106  115.555556       27  0.683078\n",
       "6      0     1     107  136.666667       20 -0.300926\n",
       "7      0     1     108  157.777778       39 -1.056497\n",
       "8      0     1     109  178.888889       48  0.895912\n",
       "9      0     1     110  200.000000       35  1.629603"
      ]
     },
     "execution_count": 100,
     "metadata": {},
     "output_type": "execute_result"
    }
   ],
   "source": [
    "# Creating a DataFrame\n",
    "\n",
    "dict1 = {'zeros' : np.zeros(10, dtype = int),\n",
    "        'ones' : np.ones(10, dtype = int),\n",
    "        'arange' : np.arange(101, 111),\n",
    "        'linspace' : np.linspace(10,200, num = 10),\n",
    "        'randint' : np.random.randint(20,50, size = 10),\n",
    "        'randn' : np.random.randn(10)}\n",
    "df = pd.DataFrame(dict1)\n",
    "df"
   ]
  },
  {
   "cell_type": "markdown",
   "id": "4a0516fd",
   "metadata": {},
   "source": [
    "#### 8) np.eye()\n",
    "- Returns a 2-D array with ones on the diagonal and zeros elsewhere.\n",
    "- by default dtype is float\n",
    "- `Syntax: np.eye(no of rows)`"
   ]
  },
  {
   "cell_type": "code",
   "execution_count": 135,
   "id": "5f73a16f",
   "metadata": {},
   "outputs": [
    {
     "data": {
      "text/plain": [
       "array([[1., 0., 0.],\n",
       "       [0., 1., 0.],\n",
       "       [0., 0., 1.]])"
      ]
     },
     "execution_count": 135,
     "metadata": {},
     "output_type": "execute_result"
    }
   ],
   "source": [
    "arr = np.eye(3)\n",
    "arr"
   ]
  },
  {
   "cell_type": "code",
   "execution_count": 134,
   "id": "b717049a",
   "metadata": {},
   "outputs": [
    {
     "data": {
      "text/plain": [
       "array([[1., 0.],\n",
       "       [0., 1.],\n",
       "       [0., 0.],\n",
       "       [0., 0.],\n",
       "       [0., 0.]])"
      ]
     },
     "execution_count": 134,
     "metadata": {},
     "output_type": "execute_result"
    }
   ],
   "source": [
    "arr = np.eye(5,2)\n",
    "arr"
   ]
  },
  {
   "cell_type": "markdown",
   "id": "7f40c79f",
   "metadata": {},
   "source": [
    "#### 9) np.identity()\n",
    "- The identity array is a square array with ones on the main diagonal.\n",
    "- `Syntax: np.identity(no of rows)`"
   ]
  },
  {
   "cell_type": "code",
   "execution_count": 136,
   "id": "a0d99f27",
   "metadata": {},
   "outputs": [
    {
     "data": {
      "text/plain": [
       "array([[1., 0., 0., 0., 0.],\n",
       "       [0., 1., 0., 0., 0.],\n",
       "       [0., 0., 1., 0., 0.],\n",
       "       [0., 0., 0., 1., 0.],\n",
       "       [0., 0., 0., 0., 1.]])"
      ]
     },
     "execution_count": 136,
     "metadata": {},
     "output_type": "execute_result"
    }
   ],
   "source": [
    "arr = np.identity(5)\n",
    "# arr = np.identity(5,2) # THis is not valid since in identity matrix rows=columns\n",
    "arr"
   ]
  },
  {
   "cell_type": "markdown",
   "id": "089c935f",
   "metadata": {},
   "source": [
    "### Reshaping an array\n",
    "- we can give a new shape to an array without changing the data using ndarray.reshape() function.\n",
    "- Just remember, that when you use the reshape method, the array you want to produce needs to have the same number of elements as the original array. If you start with an array with 12 elements, you’ll need to make sure that your new array also has a total of 12 elements."
   ]
  },
  {
   "cell_type": "markdown",
   "id": "67643439",
   "metadata": {},
   "source": [
    "#### 1) np.reshape()\n",
    "- Gives a new shape to an array without changing its data.\n",
    "- `Syntax: np.rehsape(matrix,rows,columns)`"
   ]
  },
  {
   "cell_type": "code",
   "execution_count": 108,
   "id": "ca729067",
   "metadata": {},
   "outputs": [
    {
     "name": "stdout",
     "output_type": "stream",
     "text": [
      "[ 1  3  5  7  9 11 13 15 17 19 21 23]\n",
      "**********\n",
      "[[ 1  3  5]\n",
      " [ 7  9 11]\n",
      " [13 15 17]\n",
      " [19 21 23]]\n",
      "**********\n",
      "[[[ 1  3  5]\n",
      "  [ 7  9 11]]\n",
      "\n",
      " [[13 15 17]\n",
      "  [19 21 23]]]\n"
     ]
    }
   ],
   "source": [
    "arr = np.arange(1,25,2) # Total 12 elements\n",
    "print(arr)\n",
    "print('*'*10)\n",
    "print(arr.reshape(4,3)) # 4*3 = 12 elements\n",
    "print('*'*10)\n",
    "print(arr.reshape(2,2,3)) # 2*2*3 = 12 elements"
   ]
  },
  {
   "cell_type": "markdown",
   "id": "56132f70",
   "metadata": {},
   "source": [
    "### Converting an array to n-dimensional array\n",
    "- To convet a list to n-dimensional array we have to use 'ndmin'\n",
    "- We can not convert a list of values to 0 dimensional array.\n",
    "- By default value of ndmin is 1."
   ]
  },
  {
   "cell_type": "markdown",
   "id": "2ac33c8b",
   "metadata": {},
   "source": [
    "#### 1) ndmin\n",
    "- Specifies the minimum number of dimensions that the resulting array should have.\n",
    "- By default `ndmin=1`"
   ]
  },
  {
   "cell_type": "code",
   "execution_count": 109,
   "id": "6e5d1c4f",
   "metadata": {},
   "outputs": [
    {
     "name": "stdout",
     "output_type": "stream",
     "text": [
      "[2 3 4 5 6]\n",
      "1\n"
     ]
    }
   ],
   "source": [
    "# Converting to 1 dimensional array\n",
    "\n",
    "arr1 = np.array([2,3,4,5,6], ndmin=1)\n",
    "print(arr1)\n",
    "print(arr1.ndim)"
   ]
  },
  {
   "cell_type": "code",
   "execution_count": 110,
   "id": "a20af6c3",
   "metadata": {},
   "outputs": [
    {
     "name": "stdout",
     "output_type": "stream",
     "text": [
      "[[2 3 4 5 6]]\n",
      "2\n"
     ]
    }
   ],
   "source": [
    "# Converting to 2 dimensional array\n",
    "\n",
    "arr = np.array([2,3,4,5,6], ndmin = 2)\n",
    "print(arr)\n",
    "print(arr.ndim)"
   ]
  },
  {
   "cell_type": "code",
   "execution_count": 111,
   "id": "a36400da",
   "metadata": {},
   "outputs": [
    {
     "name": "stdout",
     "output_type": "stream",
     "text": [
      "[[[2 3 4 5 6]]]\n",
      "3\n"
     ]
    }
   ],
   "source": [
    "# Converting to 3 dimensional array\n",
    "\n",
    "arr = np.array([2,3,4,5,6], ndmin = 3)\n",
    "print(arr)\n",
    "print(arr.ndim)"
   ]
  },
  {
   "cell_type": "markdown",
   "id": "f18b8454",
   "metadata": {},
   "source": [
    "#### 2) reshape() + ndmin"
   ]
  },
  {
   "cell_type": "code",
   "execution_count": 112,
   "id": "e18687f7",
   "metadata": {},
   "outputs": [
    {
     "name": "stdout",
     "output_type": "stream",
     "text": [
      "array : [2 3 4 1 5 6 2 6 7 1 0 4]\n",
      "Number of dimensions of an array : 1\n",
      "Shape : (12,)\n",
      "[[2 3 4 1]\n",
      " [5 6 2 6]\n",
      " [7 1 0 4]]\n",
      "2\n"
     ]
    }
   ],
   "source": [
    "# converting 1D - 2D array\n",
    "\n",
    "arr = np.array([2,3,4,1,5,6,2,6,7,1,0,4], ndmin = 1)\n",
    "print('array :',arr)\n",
    "print('Number of dimensions of an array :', arr.ndim)\n",
    "print('Shape :', arr.shape)\n",
    "arr2 = arr.reshape(3,4) # 3 rows and 4 cols (3*4)\n",
    "print(arr2)\n",
    "print(arr2.ndim)"
   ]
  },
  {
   "cell_type": "code",
   "execution_count": 113,
   "id": "a658fa3d",
   "metadata": {},
   "outputs": [
    {
     "name": "stdout",
     "output_type": "stream",
     "text": [
      "array : [2 3 4 1 5 6 2 6 7 1 0 4]\n",
      "Number of dimensions of an array : 1\n",
      "Shape : (12,)\n",
      "[[[2 3 4]\n",
      "  [1 5 6]]\n",
      "\n",
      " [[2 6 7]\n",
      "  [1 0 4]]]\n",
      "3\n"
     ]
    }
   ],
   "source": [
    "# converting 1D - 3D array\n",
    "\n",
    "arr = np.array([2,3,4,1,5,6,2,6,7,1,0,4], ndmin = 1)\n",
    "print('array :',arr)\n",
    "print('Number of dimensions of an array :', arr.ndim)\n",
    "print('Shape :', arr.shape)\n",
    "arr3 = arr.reshape(2,2,3) # depth(number of matrices),rows,columns\n",
    "print(arr3)\n",
    "print(arr3.ndim)"
   ]
  },
  {
   "cell_type": "markdown",
   "id": "07e20d87",
   "metadata": {},
   "source": [
    "#### 3) resize()\n",
    "- reshape() and resize() methods are used to change the size of an array.\n",
    "- The main difference between them is that `reshape()` does not changes the original array but only returns the changed/modified array, whereas the `resize()` method returns nothing and directly changes the original array.\n",
    "- `syntax: ndarray.resize(matrix,row,column)"
   ]
  },
  {
   "cell_type": "code",
   "execution_count": 132,
   "id": "7d70cfbd",
   "metadata": {},
   "outputs": [
    {
     "name": "stdout",
     "output_type": "stream",
     "text": [
      "[2 3 4 1 5 6 2 6 7 1 0 4]\n",
      "[[[2 3 4]\n",
      "  [1 5 6]]\n",
      "\n",
      " [[2 6 7]\n",
      "  [1 0 4]]]\n"
     ]
    }
   ],
   "source": [
    "arr = np.array([2,3,4,1,5,6,2,6,7,1,0,4])\n",
    "print(arr)\n",
    "arr.resize(2,2,3)\n",
    "print(arr)"
   ]
  },
  {
   "cell_type": "markdown",
   "id": "cf59f1a9",
   "metadata": {},
   "source": [
    "### Indexing & Slicing of an array\n",
    "- You can index and slice NumPy arrays in the same ways you can slice Python lists."
   ]
  },
  {
   "cell_type": "markdown",
   "id": "37d9e722",
   "metadata": {},
   "source": [
    "#### 1) One Dimensional\n",
    "- for indexing `arraya_name[index]`\n",
    "- for slicing `array_name[start:stop:step]`"
   ]
  },
  {
   "cell_type": "code",
   "execution_count": 115,
   "id": "ee10a79a",
   "metadata": {},
   "outputs": [
    {
     "name": "stdout",
     "output_type": "stream",
     "text": [
      "3\n",
      "4\n",
      "5\n",
      "6\n",
      "7\n"
     ]
    }
   ],
   "source": [
    "# 1 dimensional: indexing\n",
    "\n",
    "arr = np.array([3,4,5,6,7]) # [1-D]\n",
    "print(arr[0])\n",
    "print(arr[1])\n",
    "print(arr[2])\n",
    "print(arr[-2])\n",
    "print(arr[-1])"
   ]
  },
  {
   "cell_type": "code",
   "execution_count": 122,
   "id": "77ab6157",
   "metadata": {},
   "outputs": [
    {
     "name": "stdout",
     "output_type": "stream",
     "text": [
      "[30 40]\n",
      "[50 40 30 20 10]\n"
     ]
    }
   ],
   "source": [
    "# 1 dimensional: slicing\n",
    "\n",
    "arr1 = np.array([10,20,30,40,50])\n",
    "print(arr1[2:4])\n",
    "\n",
    "# Reversed array \n",
    "print(arr1[::-1])"
   ]
  },
  {
   "cell_type": "markdown",
   "id": "4baea0dc",
   "metadata": {},
   "source": [
    "#### 2) Two Dimensional\n",
    "- array within an array\n",
    "- consist of rows and columns\n",
    "- for indexing `array_name[row index][column index]`\n",
    "- for slicing `array_name[start:stop:step]for rows,[start:stop:step]for columns`"
   ]
  },
  {
   "cell_type": "code",
   "execution_count": 117,
   "id": "4fa327bc",
   "metadata": {},
   "outputs": [
    {
     "name": "stdout",
     "output_type": "stream",
     "text": [
      "[[1 2 3]\n",
      " [4 5 6]\n",
      " [7 8 9]]\n",
      "3\n",
      "5\n",
      "7\n"
     ]
    }
   ],
   "source": [
    "# 2 dimensional: indexing\n",
    "\n",
    "my_arr = np.array([[1,2,3],[4,5,6],[7,8,9]]) # [2-D]\n",
    "print(my_arr)\n",
    "print(my_arr[0][2])\n",
    "# print(my_arr[0,2]) # Can write in this way also\n",
    "\n",
    "print(my_arr[1][1])\n",
    "# print(my_arr[1,1]) # Can write in this way also\n",
    "\n",
    "print(my_arr[2][0])\n",
    "# print(my_arr[2,0]) # Can write in this way also"
   ]
  },
  {
   "cell_type": "code",
   "execution_count": 124,
   "id": "7829af83",
   "metadata": {},
   "outputs": [
    {
     "name": "stdout",
     "output_type": "stream",
     "text": [
      "[[1 2 3]\n",
      " [4 5 6]\n",
      " [7 8 9]]\n",
      "**********\n",
      "[1 2 3]\n",
      "**********\n",
      "[7 8 9]\n",
      "**********\n",
      "[[7 8 9]\n",
      " [4 5 6]\n",
      " [1 2 3]]\n",
      "**********\n",
      "[[3]\n",
      " [6]\n",
      " [9]]\n",
      "**********\n",
      "[[3 2 1]\n",
      " [6 5 4]\n",
      " [9 8 7]]\n",
      "**********\n",
      "[[1 2 3]\n",
      " [7 8 9]]\n",
      "**********\n",
      "[[5 6]\n",
      " [8 9]]\n"
     ]
    }
   ],
   "source": [
    "# 2 dimensional: slicing\n",
    "\n",
    "my_arr = np.array([[1,2,3],[4,5,6],[7,8,9]]) # [2-D]\n",
    "print(my_arr)\n",
    "print('*'*10)\n",
    "\n",
    "# accessing row\n",
    "print(my_arr[0])\n",
    "print('*'*10)\n",
    "print(my_arr[2])\n",
    "print('*'*10)\n",
    "\n",
    "# accessing reversed rows\n",
    "print(my_arr[::-1])\n",
    "print('*'*10)\n",
    "\n",
    "# accessing column\n",
    "print(my_arr[0:,2:])\n",
    "print('*'*10)\n",
    "\n",
    "# accessing reversed columns\n",
    "print(my_arr[:,::-1])\n",
    "print('*'*10)\n",
    "\n",
    "# accesing particular sub array\n",
    "print(my_arr[0::2])\n",
    "print('*'*10)\n",
    "print(my_arr[1:,1:])"
   ]
  },
  {
   "cell_type": "markdown",
   "id": "6400ef63",
   "metadata": {},
   "source": [
    "#### 3) Three Dimensional\n",
    "- 2d array within an array\n",
    "- consist of i(no of 2d arrays/no of matrices),j(rows),k(columns)\n",
    "- for indexing `array_name[2d array/matrix index][row index][column index]`\n",
    "- for slicing `array_name[start:stop:step]for 2d array,[start:stop:step]for rows,[start:stop:step]for columns`"
   ]
  },
  {
   "cell_type": "code",
   "execution_count": 119,
   "id": "39699857",
   "metadata": {},
   "outputs": [
    {
     "name": "stdout",
     "output_type": "stream",
     "text": [
      "[[[ 1  2  3  4]\n",
      "  [ 5  6  7  8]\n",
      "  [ 9 10 11 12]]\n",
      "\n",
      " [[13 14 15 16]\n",
      "  [17 18 19 20]\n",
      "  [21 22 23 24]]]\n",
      "11\n",
      "20\n"
     ]
    }
   ],
   "source": [
    "# 3 dimensional: indexing\n",
    "\n",
    "my_arr = np.array([[[1,2,3,4],[5,6,7,8],[9,10,11,12]],[[13,14,15,16],[17,18,19,20],[21,22,23,24]]]) # [3-D]\n",
    "print(my_arr)\n",
    "print(my_arr[0][2][2])\n",
    "# print(my_arr[0,2,2]) # Can write in this way also\n",
    "\n",
    "print(my_arr[1][1][3])\n",
    "# print(my_arr[1,1,3]) # Can write in this way also"
   ]
  },
  {
   "cell_type": "code",
   "execution_count": 128,
   "id": "e836c470",
   "metadata": {},
   "outputs": [
    {
     "name": "stdout",
     "output_type": "stream",
     "text": [
      "[[[ 1  2  3  4]\n",
      "  [ 5  6  7  8]\n",
      "  [ 9 10 11 12]]\n",
      "\n",
      " [[13 14 15 16]\n",
      "  [17 18 19 20]\n",
      "  [21 22 23 24]]]\n",
      "**********\n",
      "[[[17 18 19 20]\n",
      "  [21 22 23 24]]]\n",
      "**********\n",
      "[[[ 9 10 11 12]\n",
      "  [ 5  6  7  8]\n",
      "  [ 1  2  3  4]]\n",
      "\n",
      " [[21 22 23 24]\n",
      "  [17 18 19 20]\n",
      "  [13 14 15 16]]]\n",
      "**********\n",
      "[[[ 3]\n",
      "  [ 7]\n",
      "  [11]]\n",
      "\n",
      " [[15]\n",
      "  [19]\n",
      "  [23]]]\n",
      "**********\n",
      "[[[ 4  3  2  1]\n",
      "  [ 8  7  6  5]\n",
      "  [12 11 10  9]]\n",
      "\n",
      " [[16 15 14 13]\n",
      "  [20 19 18 17]\n",
      "  [24 23 22 21]]]\n",
      "**********\n",
      "[[[ 6  7]\n",
      "  [10 11]]\n",
      "\n",
      " [[18 19]\n",
      "  [22 23]]]\n"
     ]
    }
   ],
   "source": [
    "# 3 dimensional: slicing\n",
    "\n",
    "my_arr = np.array([[[1,2,3,4],[5,6,7,8],[9,10,11,12]],[[13,14,15,16],[17,18,19,20],[21,22,23,24]]]) # [3-D]\n",
    "print(my_arr)\n",
    "print('*'*10)\n",
    "\n",
    "# accessing rows\n",
    "print(my_arr[1:,1:,:])\n",
    "print('*'*10)\n",
    "\n",
    "# accessing reversed rows\n",
    "print(my_arr[:,::-1,:])\n",
    "print('*'*10)\n",
    "\n",
    "# accessing columns\n",
    "print(my_arr[:,:,2:3])\n",
    "print('*'*10)\n",
    "\n",
    "# accessing reversed columns\n",
    "print(my_arr[:,:,::-1])\n",
    "print('*'*10)\n",
    "\n",
    "# accessing particular sub array\n",
    "print(my_arr[0:,1:,1:3])"
   ]
  },
  {
   "cell_type": "markdown",
   "id": "fc1a0f7a",
   "metadata": {},
   "source": [
    "### Iterarting through an array"
   ]
  },
  {
   "cell_type": "markdown",
   "id": "69e314c4",
   "metadata": {},
   "source": [
    "#### 1) np.nditer()\n",
    "- It will iterater through an array and returns the elements"
   ]
  },
  {
   "cell_type": "code",
   "execution_count": 143,
   "id": "0f4ba517",
   "metadata": {},
   "outputs": [
    {
     "name": "stdout",
     "output_type": "stream",
     "text": [
      "3\n",
      "4\n",
      "5\n",
      "6\n",
      "7\n",
      "9\n"
     ]
    }
   ],
   "source": [
    "arr = np.array([3,4,5,6,7,9]) # 1D array\n",
    "\n",
    "for i in np.nditer(arr):\n",
    "    print(i)"
   ]
  },
  {
   "cell_type": "code",
   "execution_count": 144,
   "id": "0b975d71",
   "metadata": {},
   "outputs": [
    {
     "name": "stdout",
     "output_type": "stream",
     "text": [
      "3\n",
      "4\n",
      "5\n",
      "6\n",
      "7\n",
      "9\n"
     ]
    }
   ],
   "source": [
    "arr = np.array([[3,4],[5,6],[7,9]]) # 2D array\n",
    "\n",
    "for i in np.nditer(arr):\n",
    "    print(i)"
   ]
  },
  {
   "cell_type": "code",
   "execution_count": 145,
   "id": "e68ec01b",
   "metadata": {},
   "outputs": [
    {
     "name": "stdout",
     "output_type": "stream",
     "text": [
      "3\n",
      "4\n",
      "5\n",
      "6\n",
      "7\n",
      "9\n",
      "1\n",
      "2\n"
     ]
    }
   ],
   "source": [
    "arr = np.array([[[3,4],[5,6]],[[7,9],[1,2]]]) # 3D array\n",
    "\n",
    "for i in np.nditer(arr):\n",
    "    print(i)"
   ]
  },
  {
   "cell_type": "markdown",
   "id": "37b41d7a",
   "metadata": {},
   "source": [
    "#### 2) np.ndenumerate()\n",
    "- returns (matrix/axis, row, column) element"
   ]
  },
  {
   "cell_type": "code",
   "execution_count": 147,
   "id": "d962a9f5",
   "metadata": {},
   "outputs": [
    {
     "name": "stdout",
     "output_type": "stream",
     "text": [
      "(0,) 3\n",
      "(1,) 4\n",
      "(2,) 5\n",
      "(3,) 6\n",
      "(4,) 7\n",
      "(5,) 9\n"
     ]
    }
   ],
   "source": [
    "arr = np.array([3,4,5,6,7,9]) # 1D array\n",
    "\n",
    "for i,j in np.ndenumerate(arr):\n",
    "    print(i,j)"
   ]
  },
  {
   "cell_type": "code",
   "execution_count": 148,
   "id": "3146e6cf",
   "metadata": {},
   "outputs": [
    {
     "name": "stdout",
     "output_type": "stream",
     "text": [
      "(0, 0) 3\n",
      "(0, 1) 4\n",
      "(1, 0) 5\n",
      "(1, 1) 6\n",
      "(2, 0) 7\n",
      "(2, 1) 9\n"
     ]
    }
   ],
   "source": [
    "arr = np.array([[3,4],[5,6],[7,9]]) # 2D array\n",
    "\n",
    "for i,j in np.ndenumerate(arr):\n",
    "    print(i,j)"
   ]
  },
  {
   "cell_type": "code",
   "execution_count": 149,
   "id": "7d411ac2",
   "metadata": {},
   "outputs": [
    {
     "name": "stdout",
     "output_type": "stream",
     "text": [
      "(0, 0, 0) 3\n",
      "(0, 0, 1) 4\n",
      "(0, 1, 0) 5\n",
      "(0, 1, 1) 6\n",
      "(1, 0, 0) 7\n",
      "(1, 0, 1) 9\n",
      "(1, 1, 0) 1\n",
      "(1, 1, 1) 2\n"
     ]
    }
   ],
   "source": [
    "arr = np.array([[[3,4],[5,6]],[[7,9],[1,2]]]) # 3D array\n",
    "\n",
    "for i,j in np.ndenumerate(arr):\n",
    "    print(i,j)"
   ]
  },
  {
   "cell_type": "markdown",
   "id": "e3a84076",
   "metadata": {},
   "source": [
    "### Copying & Sorting"
   ]
  },
  {
   "cell_type": "markdown",
   "id": "d911ea44",
   "metadata": {},
   "source": [
    "#### 1) np.copy()\n",
    "- returns a copy of an original array\n",
    "- `Syntax: np.copy(ndarray)`\n",
    "- Changes are not inverted to an original array\n",
    "\n",
    "__revision__\n",
    "- for nested shallow copy reflects changes to the original.\n",
    "- but for normal shallow copy do not reflect changes to the original.\n",
    "- deep copy do not reflect changes to the original.\n",
    "- for using deepcopy import copy and use deepcopy syntax."
   ]
  },
  {
   "cell_type": "code",
   "execution_count": 185,
   "id": "1e421b8b",
   "metadata": {},
   "outputs": [
    {
     "name": "stdout",
     "output_type": "stream",
     "text": [
      "[[1 2 3]\n",
      " [4 5 6]\n",
      " [7 8 9]]\n",
      "**********\n",
      "[[  1   2   3]\n",
      " [  4 556   6]\n",
      " [  7   8   9]]\n"
     ]
    }
   ],
   "source": [
    "arr = np.array([[1,2,3],[4,5,6],[7,8,9]])\n",
    "print(arr)\n",
    "print('*'*10)\n",
    "arr1 = np.copy(arr)\n",
    "arr1[1,1] =556\n",
    "print(arr1)"
   ]
  },
  {
   "cell_type": "code",
   "execution_count": 187,
   "id": "8b90635a",
   "metadata": {},
   "outputs": [
    {
     "name": "stdout",
     "output_type": "stream",
     "text": [
      "[[[  1   2]\n",
      "  [  3   4]]\n",
      "\n",
      " [[  5   6]\n",
      "  [  7 100]]]\n",
      "**********\n",
      "[[[1 2]\n",
      "  [3 4]]\n",
      "\n",
      " [[5 6]\n",
      "  [7 8]]]\n"
     ]
    }
   ],
   "source": [
    "arr = np.array([[[1,2],[3,4]],[[5,6],[7,8]]])\n",
    "\n",
    "arr1 = np.copy(arr)\n",
    "arr1[1,1,1] =100\n",
    "print(arr1)\n",
    "print('*'*10)\n",
    "print(arr)"
   ]
  },
  {
   "cell_type": "markdown",
   "id": "9c4860b2",
   "metadata": {},
   "source": [
    "#### 2) np.sort()\n",
    "- Return a sorted copy of an array.\n",
    "- axis if None, the array is flattened before sorting. The default is -1, which sorts along the last axis.\n",
    "- `Syntax: np.sort(ndarry)`"
   ]
  },
  {
   "cell_type": "code",
   "execution_count": 188,
   "id": "2c18b116",
   "metadata": {},
   "outputs": [
    {
     "data": {
      "text/plain": [
       "array([ 1,  3,  6, 12, 34, 65, 89])"
      ]
     },
     "execution_count": 188,
     "metadata": {},
     "output_type": "execute_result"
    }
   ],
   "source": [
    "arr = np.array([12,34,65,1,89,6,3])\n",
    "np.sort(arr)"
   ]
  },
  {
   "cell_type": "code",
   "execution_count": 199,
   "id": "7516ae08",
   "metadata": {},
   "outputs": [
    {
     "data": {
      "text/plain": [
       "array([[ 8, 12, 65],\n",
       "       [ 1,  6, 89]])"
      ]
     },
     "execution_count": 199,
     "metadata": {},
     "output_type": "execute_result"
    }
   ],
   "source": [
    "arr = np.array([[12,8,65], \n",
    "                [1,89,6]])\n",
    "np.sort(arr) # default is -1; sorts alongthe last axis"
   ]
  },
  {
   "cell_type": "code",
   "execution_count": 203,
   "id": "ee11aa22",
   "metadata": {},
   "outputs": [
    {
     "data": {
      "text/plain": [
       "array([ 1,  6,  8, 12, 65, 89])"
      ]
     },
     "execution_count": 203,
     "metadata": {},
     "output_type": "execute_result"
    }
   ],
   "source": [
    "arr = np.array([[12,8,65],\n",
    "                [1,89,6]])\n",
    "np.sort(arr, axis=None)     # sort the flattened array"
   ]
  },
  {
   "cell_type": "code",
   "execution_count": 204,
   "id": "ce72ba59",
   "metadata": {},
   "outputs": [
    {
     "data": {
      "text/plain": [
       "array([[ 8, 12, 65],\n",
       "       [ 1,  6, 89]])"
      ]
     },
     "execution_count": 204,
     "metadata": {},
     "output_type": "execute_result"
    }
   ],
   "source": [
    "arr = np.array([[12,8,65],\n",
    "                [1,89,6]])\n",
    "np.sort(arr, axis=1) # sorts along the ??"
   ]
  },
  {
   "cell_type": "code",
   "execution_count": 205,
   "id": "e14e3b4a",
   "metadata": {},
   "outputs": [
    {
     "data": {
      "text/plain": [
       "array([[ 1,  8,  6],\n",
       "       [12, 89, 65]])"
      ]
     },
     "execution_count": 205,
     "metadata": {},
     "output_type": "execute_result"
    }
   ],
   "source": [
    "arr = np.array([[12,8,65],\n",
    "                [1,89,6]])\n",
    "np.sort(arr, axis=0) # sorts along the ??"
   ]
  },
  {
   "cell_type": "markdown",
   "id": "6fbfe730",
   "metadata": {},
   "source": [
    "### Array Manipulation"
   ]
  },
  {
   "cell_type": "markdown",
   "id": "306a3f7d",
   "metadata": {},
   "source": [
    "#### 1) np.append()\n",
    "- Appends value or array to the original array along rows or along columns.\n",
    "- `Syntax: np.append(array,value/array,axis)`"
   ]
  },
  {
   "cell_type": "code",
   "execution_count": 207,
   "id": "7aac11da",
   "metadata": {},
   "outputs": [
    {
     "data": {
      "text/plain": [
       "array([   4,    5,    6,    7, 1000])"
      ]
     },
     "execution_count": 207,
     "metadata": {},
     "output_type": "execute_result"
    }
   ],
   "source": [
    "array1 = np.array([4,5,6,7])\n",
    "new_array = np.append(array1,1000) # adding static value\n",
    "new_array"
   ]
  },
  {
   "cell_type": "code",
   "execution_count": 206,
   "id": "d836c3f1",
   "metadata": {},
   "outputs": [
    {
     "data": {
      "text/plain": [
       "array([ 4,  5,  6,  7, 10, 20, 30, 40])"
      ]
     },
     "execution_count": 206,
     "metadata": {},
     "output_type": "execute_result"
    }
   ],
   "source": [
    "array1 = np.array([4,5,6,7])\n",
    "array2 = np.array([10,20,30,40])\n",
    "new_array = np.append(array1,array2) # adding 2 arrays (flattened)\n",
    "new_array"
   ]
  },
  {
   "cell_type": "code",
   "execution_count": 210,
   "id": "3217f92a",
   "metadata": {},
   "outputs": [
    {
     "data": {
      "text/plain": [
       "array([[  2,   3],\n",
       "       [  4,   5],\n",
       "       [100, 200],\n",
       "       [400, 500]])"
      ]
     },
     "execution_count": 210,
     "metadata": {},
     "output_type": "execute_result"
    }
   ],
   "source": [
    "array1 = np.array([[2,3],[4,5]])\n",
    "array2 = np.array([[100,200],[400,500]])\n",
    "new_array = np.append(array1, array2, axis=0) # adding to rows\n",
    "new_array"
   ]
  },
  {
   "cell_type": "code",
   "execution_count": 212,
   "id": "23021795",
   "metadata": {},
   "outputs": [
    {
     "data": {
      "text/plain": [
       "array([[  2,   3, 100, 200],\n",
       "       [  4,   5, 400, 500]])"
      ]
     },
     "execution_count": 212,
     "metadata": {},
     "output_type": "execute_result"
    }
   ],
   "source": [
    "array1 = np.array([[2,3],[4,5]])\n",
    "array2 = np.array([[100,200],[400,500]])\n",
    "new_array = np.append(array1,array2, axis = 1) # adding to columns\n",
    "new_array"
   ]
  },
  {
   "cell_type": "markdown",
   "id": "73bf40d7",
   "metadata": {},
   "source": [
    "#### 2) np.insert()\n",
    "- inserts values along the given axis before the given indices.\n",
    "- The difference between the `np.insert()` and the `np.append()` method is that we can specify at which index we want to add an element when using the `np.insert()` method but the `np.append()` method adds a value to the end of the array.\n",
    "- it does not replace it inserts at the given index.\n",
    "- `Syntax: np.insert(array,value)`"
   ]
  },
  {
   "cell_type": "code",
   "execution_count": 217,
   "id": "3870ece3",
   "metadata": {},
   "outputs": [
    {
     "name": "stdout",
     "output_type": "stream",
     "text": [
      "[[11 12]\n",
      " [13 14]\n",
      " [15 16]]\n"
     ]
    },
    {
     "data": {
      "text/plain": [
       "array([11,  5, 12, 13, 14, 15, 16])"
      ]
     },
     "execution_count": 217,
     "metadata": {},
     "output_type": "execute_result"
    }
   ],
   "source": [
    "a = np.array([[11, 12], [13, 14], [15, 16]])\n",
    "print(a)\n",
    "\n",
    "np.insert(a, 1, 5)"
   ]
  },
  {
   "cell_type": "markdown",
   "id": "760a63a1",
   "metadata": {},
   "source": [
    "#### 3) np.delete()\n",
    "- return a new array with sub-arrays along an axis deleted.\n",
    "- `Syntax: np.delete(ndarray,index,axis)`"
   ]
  },
  {
   "cell_type": "code",
   "execution_count": 220,
   "id": "98cbf9de",
   "metadata": {},
   "outputs": [
    {
     "name": "stdout",
     "output_type": "stream",
     "text": [
      "[[ 1  2  3  4]\n",
      " [ 5  6  7  8]\n",
      " [ 9 10 11 12]]\n"
     ]
    },
    {
     "data": {
      "text/plain": [
       "array([[ 1,  2,  3,  4],\n",
       "       [ 9, 10, 11, 12]])"
      ]
     },
     "execution_count": 220,
     "metadata": {},
     "output_type": "execute_result"
    }
   ],
   "source": [
    "arr = np.array([[1,2,3,4], [5,6,7,8], [9,10,11,12]])\n",
    "print(arr)\n",
    "np.delete(arr, 1, axis=0)"
   ]
  },
  {
   "cell_type": "markdown",
   "id": "cfeb7a4d",
   "metadata": {},
   "source": [
    "### Combining arrays"
   ]
  },
  {
   "cell_type": "markdown",
   "id": "081684ae",
   "metadata": {},
   "source": [
    "#### 1) np.concatenate()\n",
    "- Join a sequence of arrays along an existing axis.\n",
    "- default axis value os '0'\n",
    "- `Syntax: np.concatenate((arr1, arr2, ...), axis=0)`"
   ]
  },
  {
   "cell_type": "code",
   "execution_count": 221,
   "id": "deb3ea8f",
   "metadata": {},
   "outputs": [
    {
     "data": {
      "text/plain": [
       "array([ 1,  2,  3,  4,  5,  6,  7,  8,  9, 10, 11, 12, 13, 14, 15])"
      ]
     },
     "execution_count": 221,
     "metadata": {},
     "output_type": "execute_result"
    }
   ],
   "source": [
    "arr1 = ([1,2,3,4,5])\n",
    "arr2 = ([6,7,8,9,10])\n",
    "arr3 = ([11,12,13,14,15])\n",
    "np.concatenate((arr1,arr2,arr3),axis=0)"
   ]
  },
  {
   "cell_type": "code",
   "execution_count": 224,
   "id": "52596f11",
   "metadata": {},
   "outputs": [
    {
     "data": {
      "text/plain": [
       "array([[ 1,  2,  5,  6,  9, 10],\n",
       "       [ 3,  4,  7,  8, 11, 12]])"
      ]
     },
     "execution_count": 224,
     "metadata": {},
     "output_type": "execute_result"
    }
   ],
   "source": [
    "arr1 = ([[1,2],[3,4]])\n",
    "arr2 = ([[5,6],[7,8]])\n",
    "arr3 = ([[9,10],[11,12]])\n",
    "np.concatenate((arr1,arr2,arr3),axis=1)"
   ]
  },
  {
   "cell_type": "code",
   "execution_count": 225,
   "id": "9f935dc5",
   "metadata": {},
   "outputs": [
    {
     "data": {
      "text/plain": [
       "array([[ 1,  2],\n",
       "       [ 3,  4],\n",
       "       [ 5,  6],\n",
       "       [ 7,  8],\n",
       "       [ 9, 10],\n",
       "       [11, 12]])"
      ]
     },
     "execution_count": 225,
     "metadata": {},
     "output_type": "execute_result"
    }
   ],
   "source": [
    "arr1 = ([[1,2],[3,4]])\n",
    "arr2 = ([[5,6],[7,8]])\n",
    "arr3 = ([[9,10],[11,12]])\n",
    "np.concatenate((arr1,arr2,arr3))"
   ]
  },
  {
   "cell_type": "markdown",
   "id": "72d3f505",
   "metadata": {},
   "source": [
    "#### 2) np.vstack()\n",
    "- Stack arrays in sequence vertically (row wise).\n",
    "- `Syntax: np.vstack(tuple of arrays)`"
   ]
  },
  {
   "cell_type": "code",
   "execution_count": 227,
   "id": "4a828b79",
   "metadata": {},
   "outputs": [
    {
     "data": {
      "text/plain": [
       "array([[ 1,  2,  3,  4,  5],\n",
       "       [ 6,  7,  8,  9, 10],\n",
       "       [11, 12, 13, 14, 15]])"
      ]
     },
     "execution_count": 227,
     "metadata": {},
     "output_type": "execute_result"
    }
   ],
   "source": [
    "arr1 = ([1,2,3,4,5])\n",
    "arr2 = ([6,7,8,9,10])\n",
    "arr3 = ([11,12,13,14,15])\n",
    "np.vstack((arr1,arr2,arr3))"
   ]
  },
  {
   "cell_type": "code",
   "execution_count": 228,
   "id": "86dbc37c",
   "metadata": {},
   "outputs": [
    {
     "data": {
      "text/plain": [
       "array([[ 1,  2],\n",
       "       [ 3,  4],\n",
       "       [ 5,  6],\n",
       "       [ 7,  8],\n",
       "       [ 9, 10],\n",
       "       [11, 12]])"
      ]
     },
     "execution_count": 228,
     "metadata": {},
     "output_type": "execute_result"
    }
   ],
   "source": [
    "arr1 = ([[1,2],[3,4]])\n",
    "arr2 = ([[5,6],[7,8]])\n",
    "arr3 = ([[9,10],[11,12]])\n",
    "np.concatenate((arr1,arr2,arr3))"
   ]
  },
  {
   "cell_type": "markdown",
   "id": "2039d40c",
   "metadata": {},
   "source": [
    "#### 3) np.hstack()\n",
    "- Stack arrays in sequence horizontally (column wise).\n",
    "- `Syntax: np.hstack(tuple of arrays)`"
   ]
  },
  {
   "cell_type": "code",
   "execution_count": 230,
   "id": "27fc8444",
   "metadata": {},
   "outputs": [
    {
     "data": {
      "text/plain": [
       "array([ 1,  2,  3,  4,  5,  6,  7,  8,  9, 10, 11, 12, 13, 14, 15])"
      ]
     },
     "execution_count": 230,
     "metadata": {},
     "output_type": "execute_result"
    }
   ],
   "source": [
    "arr1 = ([1,2,3,4,5])\n",
    "arr2 = ([6,7,8,9,10])\n",
    "arr3 = ([11,12,13,14,15])\n",
    "np.hstack((arr1,arr2,arr3))"
   ]
  },
  {
   "cell_type": "code",
   "execution_count": 229,
   "id": "d336f80f",
   "metadata": {},
   "outputs": [
    {
     "data": {
      "text/plain": [
       "array([[ 1,  2,  5,  6,  9, 10],\n",
       "       [ 3,  4,  7,  8, 11, 12]])"
      ]
     },
     "execution_count": 229,
     "metadata": {},
     "output_type": "execute_result"
    }
   ],
   "source": [
    "arr1 = ([[1,2],[3,4]])\n",
    "arr2 = ([[5,6],[7,8]])\n",
    "arr3 = ([[9,10],[11,12]])\n",
    "np.hstack((arr1,arr2,arr3))"
   ]
  },
  {
   "cell_type": "markdown",
   "id": "8482326f",
   "metadata": {},
   "source": [
    "### Spiltting arrays"
   ]
  },
  {
   "cell_type": "markdown",
   "id": "136dd4fb",
   "metadata": {},
   "source": [
    "#### 1) np.split()\n",
    "- only equal division number of splits are allowed. That means if an array is having np.size(arr1) = 10 then 3 numbr of splits are not aalowed. It should be divisible by np.size(arr1)\n",
    "- split function will only be possible with equal division of elements, otherwise it will raise a value error.\n",
    "- we can customize our split as well, just go to np.hslpit(), will make you understand it in a better way.\n",
    "- `Syntax: np.split(array, number of splits)`"
   ]
  },
  {
   "cell_type": "code",
   "execution_count": 19,
   "id": "f3193386",
   "metadata": {},
   "outputs": [
    {
     "name": "stdout",
     "output_type": "stream",
     "text": [
      "[1 2 3 4 5 6 7 8 9]\n",
      "[array([1, 2, 3]), array([4, 5, 6]), array([7, 8, 9])]\n"
     ]
    }
   ],
   "source": [
    "arr1 = np.arange(1,10) # 1D array\n",
    "print(arr1)\n",
    "print(np.split(arr1,3))"
   ]
  },
  {
   "cell_type": "code",
   "execution_count": 8,
   "id": "32276e9b",
   "metadata": {},
   "outputs": [
    {
     "name": "stdout",
     "output_type": "stream",
     "text": [
      "[[ 1  2  3  4]\n",
      " [ 5  6  7  8]\n",
      " [ 9 10 11 12]]\n",
      "12\n",
      "[array([[1, 2, 3, 4]]), array([[5, 6, 7, 8]]), array([[ 9, 10, 11, 12]])]\n",
      "[[1 2 3 4]]\n",
      "[[5 6 7 8]]\n",
      "[[ 9 10 11 12]]\n"
     ]
    }
   ],
   "source": [
    "arr1 = np.array([[1,2,3,4],[5,6,7,8],[9,10,11,12]]) # 2D array\n",
    "print(arr1)\n",
    "\n",
    "print(np.size(arr1))\n",
    "\n",
    "print(np.split(arr1,3))\n",
    "\n",
    "print(np.split(arr1,3)[0])\n",
    "print(np.split(arr1,3)[1])\n",
    "print(np.split(arr1,3)[2])"
   ]
  },
  {
   "cell_type": "code",
   "execution_count": 25,
   "id": "cceca2af",
   "metadata": {},
   "outputs": [
    {
     "name": "stdout",
     "output_type": "stream",
     "text": [
      "[[[ 1  2  3]\n",
      "  [ 4  5  6]]\n",
      "\n",
      " [[ 7  8  9]\n",
      "  [10 11 12]]]\n",
      "[array([[[1, 2, 3],\n",
      "        [4, 5, 6]]]), array([[[ 7,  8,  9],\n",
      "        [10, 11, 12]]])]\n",
      "[[[1 2 3]\n",
      "  [4 5 6]]]\n",
      "[[[ 7  8  9]\n",
      "  [10 11 12]]]\n"
     ]
    }
   ],
   "source": [
    "arr1 = np.array([[[1,2,3],[4,5,6]],[[7,8,9],[10,11,12]]]) # 3D array\n",
    "print(arr1)\n",
    "print(np.split(arr1,2))\n",
    "print(np.split(arr1,2)[0])\n",
    "print(np.split(arr1,2)[1])"
   ]
  },
  {
   "cell_type": "markdown",
   "id": "f75ab036",
   "metadata": {},
   "source": [
    "#### 2) np.array_split()\n",
    "- It is used to overcome the limitation of np.split() function.\n",
    "- It will not raise an error even if number of splits given aint having equal division.\n",
    "- `Syntax: np.array_split(array, number of splits)`"
   ]
  },
  {
   "cell_type": "code",
   "execution_count": 31,
   "id": "7819408e",
   "metadata": {},
   "outputs": [
    {
     "name": "stdout",
     "output_type": "stream",
     "text": [
      "[1 2 3 4 5 6 7 8 9]\n",
      "[array([1, 2, 3]), array([4, 5]), array([6, 7]), array([8, 9])]\n",
      "[1 2 3]\n",
      "[4 5]\n",
      "[6 7]\n",
      "[8 9]\n"
     ]
    }
   ],
   "source": [
    "arr1 = np.arange(1,10) # 1D array\n",
    "print(arr1)\n",
    "print(np.array_split(arr1,4))\n",
    "print(np.array_split(arr1,4)[0]) # Three elements\n",
    "print(np.array_split(arr1,4)[1])\n",
    "print(np.array_split(arr1,4)[2])\n",
    "print(np.array_split(arr1,4)[3])"
   ]
  },
  {
   "cell_type": "code",
   "execution_count": 30,
   "id": "63b64d11",
   "metadata": {},
   "outputs": [
    {
     "name": "stdout",
     "output_type": "stream",
     "text": [
      "[[ 1  2  3  4]\n",
      " [ 5  6  7  8]\n",
      " [ 9 10 11 12]]\n",
      "12\n",
      "[array([[1, 2, 3, 4]]), array([[5, 6, 7, 8]]), array([[ 9, 10, 11, 12]]), array([], shape=(0, 4), dtype=int32)]\n",
      "[[1 2 3 4]]\n",
      "[[5 6 7 8]]\n",
      "[[ 9 10 11 12]]\n",
      "[]\n"
     ]
    }
   ],
   "source": [
    "arr1 = np.array([[1,2,3,4],[5,6,7,8],[9,10,11,12]])\n",
    "print(arr1)\n",
    "\n",
    "print(np.size(arr1))\n",
    "\n",
    "print(np.array_split(arr1,4))\n",
    "\n",
    "print(np.array_split(arr1,4)[0])\n",
    "print(np.array_split(arr1,4)[1])\n",
    "print(np.array_split(arr1,4)[2])\n",
    "print(np.array_split(arr1,4)[3]) # Empty"
   ]
  },
  {
   "cell_type": "code",
   "execution_count": 29,
   "id": "5d909ba1",
   "metadata": {},
   "outputs": [
    {
     "name": "stdout",
     "output_type": "stream",
     "text": [
      "[[[ 1  2  3]\n",
      "  [ 4  5  6]]\n",
      "\n",
      " [[ 7  8  9]\n",
      "  [10 11 12]]]\n",
      "[array([[[1, 2, 3],\n",
      "        [4, 5, 6]]]), array([[[ 7,  8,  9],\n",
      "        [10, 11, 12]]]), array([], shape=(0, 2, 3), dtype=int32)]\n",
      "[[[1 2 3]\n",
      "  [4 5 6]]]\n",
      "[[[ 7  8  9]\n",
      "  [10 11 12]]]\n",
      "[]\n"
     ]
    }
   ],
   "source": [
    "arr1 = np.array([[[1,2,3],[4,5,6]],[[7,8,9],[10,11,12]]]) # 3D array\n",
    "print(arr1)\n",
    "print(np.array_split(arr1,3))\n",
    "print(np.array_split(arr1,3)[0])\n",
    "print(np.array_split(arr1,3)[1])\n",
    "print(np.array_split(arr1,3)[2]) # Empty"
   ]
  },
  {
   "cell_type": "markdown",
   "id": "9d4d0347",
   "metadata": {},
   "source": [
    "#### 3) np.vsplit()\n",
    "- found out that `np.vsplit()` and `np.split()` function works the same\n",
    "- It wont be applicable for one dimensional array.\n",
    "- It will split an array in vertical direction"
   ]
  },
  {
   "cell_type": "markdown",
   "id": "11873cc5",
   "metadata": {},
   "source": [
    "#### 4) np.hsplit()\n",
    "- It will split an array in horizontal direction\n",
    "- You can customize your split for that you have to pass a list telling the interpreter which row you want in 1st split and then so on"
   ]
  },
  {
   "cell_type": "code",
   "execution_count": 10,
   "id": "6f6e8f98",
   "metadata": {},
   "outputs": [
    {
     "name": "stdout",
     "output_type": "stream",
     "text": [
      "[[ 1  2  3  4]\n",
      " [ 5  6  7  8]\n",
      " [ 9 10 11 12]]\n",
      "12\n",
      "[array([[1],\n",
      "       [5],\n",
      "       [9]]), array([[ 2],\n",
      "       [ 6],\n",
      "       [10]]), array([[ 3],\n",
      "       [ 7],\n",
      "       [11]]), array([[ 4],\n",
      "       [ 8],\n",
      "       [12]])]\n",
      "[[1]\n",
      " [5]\n",
      " [9]]\n",
      "[[ 2]\n",
      " [ 6]\n",
      " [10]]\n",
      "[[ 3]\n",
      " [ 7]\n",
      " [11]]\n"
     ]
    }
   ],
   "source": [
    "arr1 = np.array([[1,2,3,4],[5,6,7,8],[9,10,11,12]])\n",
    "print(arr1)\n",
    "\n",
    "print(np.size(arr1))\n",
    "\n",
    "print(np.hsplit(arr1,4))\n",
    "\n",
    "print(np.hsplit(arr1,4)[0])\n",
    "print(np.hsplit(arr1,4)[1])\n",
    "print(np.hsplit(arr1,4)[2])"
   ]
  },
  {
   "cell_type": "code",
   "execution_count": 49,
   "id": "6655e26c",
   "metadata": {},
   "outputs": [
    {
     "name": "stdout",
     "output_type": "stream",
     "text": [
      "[[ 1  2  3  4]\n",
      " [ 5  6  7  8]\n",
      " [ 9 10 11 12]]\n",
      "12\n",
      "[[ 2  3  4]\n",
      " [ 6  7  8]\n",
      " [10 11 12]]\n",
      "[[1]\n",
      " [5]\n",
      " [9]]\n",
      "[[ 2  3  4]\n",
      " [ 6  7  8]\n",
      " [10 11 12]]\n"
     ]
    }
   ],
   "source": [
    "arr1 = np.array([[1,2,3,4],[5,6,7,8],[9,10,11,12]])\n",
    "print(arr1)\n",
    "\n",
    "print(np.size(arr1))\n",
    "\n",
    "print(np.hsplit(arr1,[1,4])[1]) # [1,4] -->> split my array in two, one is from [0(include),1(exclude)] and other is from [1(include),4(exclude)]\n",
    "\n",
    "print(np.hsplit(arr1,[1,4])[0])\n",
    "print(np.hsplit(arr1,[1,4])[1])"
   ]
  },
  {
   "cell_type": "markdown",
   "id": "3384641e",
   "metadata": {},
   "source": [
    "### Array properties"
   ]
  },
  {
   "cell_type": "markdown",
   "id": "0f8f7f77",
   "metadata": {},
   "source": [
    "#### 1) array.shape\n",
    "- will return the shape of an array\n",
    "- (axis, rows ,columns)"
   ]
  },
  {
   "cell_type": "code",
   "execution_count": 51,
   "id": "0d727768",
   "metadata": {},
   "outputs": [
    {
     "data": {
      "text/plain": [
       "(9,)"
      ]
     },
     "execution_count": 51,
     "metadata": {},
     "output_type": "execute_result"
    }
   ],
   "source": [
    "arr1 = np.arange(1,10) # 1D\n",
    "arr1.shape"
   ]
  },
  {
   "cell_type": "code",
   "execution_count": 50,
   "id": "6eca704d",
   "metadata": {},
   "outputs": [
    {
     "name": "stdout",
     "output_type": "stream",
     "text": [
      "[[ 1  2  3  4]\n",
      " [ 5  6  7  8]\n",
      " [ 9 10 11 12]]\n",
      "(3, 4)\n"
     ]
    }
   ],
   "source": [
    "arr1 = np.array([[1,2,3,4],[5,6,7,8],[9,10,11,12]]) # 2D\n",
    "print(arr1)\n",
    "print(arr1.shape)"
   ]
  },
  {
   "cell_type": "code",
   "execution_count": 52,
   "id": "60ab0839",
   "metadata": {},
   "outputs": [
    {
     "name": "stdout",
     "output_type": "stream",
     "text": [
      "[[[ 1  2  3]\n",
      "  [ 4  5  6]]\n",
      "\n",
      " [[ 7  8  9]\n",
      "  [10 11 12]]]\n",
      "(2, 2, 3)\n"
     ]
    }
   ],
   "source": [
    "arr1 = np.array([[[1,2,3],[4,5,6]],[[7,8,9],[10,11,12]]]) # 3D array\n",
    "print(arr1)\n",
    "print(arr1.shape)"
   ]
  },
  {
   "cell_type": "markdown",
   "id": "b2b81134",
   "metadata": {},
   "source": [
    "#### 2) array.ndim\n",
    "- will return dimensions of array"
   ]
  },
  {
   "cell_type": "code",
   "execution_count": 54,
   "id": "4ed70288",
   "metadata": {},
   "outputs": [
    {
     "data": {
      "text/plain": [
       "1"
      ]
     },
     "execution_count": 54,
     "metadata": {},
     "output_type": "execute_result"
    }
   ],
   "source": [
    "arr1 = np.arange(1,10) # 1D\n",
    "arr1.ndim"
   ]
  },
  {
   "cell_type": "code",
   "execution_count": 55,
   "id": "8b1e0940",
   "metadata": {},
   "outputs": [
    {
     "name": "stdout",
     "output_type": "stream",
     "text": [
      "[[ 1  2  3  4]\n",
      " [ 5  6  7  8]\n",
      " [ 9 10 11 12]]\n",
      "2\n"
     ]
    }
   ],
   "source": [
    "arr1 = np.array([[1,2,3,4],[5,6,7,8],[9,10,11,12]]) # 2D\n",
    "print(arr1)\n",
    "print(arr1.ndim)"
   ]
  },
  {
   "cell_type": "code",
   "execution_count": 56,
   "id": "cd68e13e",
   "metadata": {},
   "outputs": [
    {
     "name": "stdout",
     "output_type": "stream",
     "text": [
      "[[[ 1  2  3]\n",
      "  [ 4  5  6]]\n",
      "\n",
      " [[ 7  8  9]\n",
      "  [10 11 12]]]\n",
      "3\n"
     ]
    }
   ],
   "source": [
    "arr1 = np.array([[[1,2,3],[4,5,6]],[[7,8,9],[10,11,12]]]) # 3D array\n",
    "print(arr1)\n",
    "print(arr1.ndim)"
   ]
  },
  {
   "cell_type": "markdown",
   "id": "96691749",
   "metadata": {},
   "source": [
    "#### 3) array.size\n",
    "- will retun the size of an array\n",
    "- retuns number of elements present in an array\n",
    "- it is nothing but multiplication of value present in `array.shape`"
   ]
  },
  {
   "cell_type": "code",
   "execution_count": 59,
   "id": "fc561f61",
   "metadata": {},
   "outputs": [
    {
     "data": {
      "text/plain": [
       "9"
      ]
     },
     "execution_count": 59,
     "metadata": {},
     "output_type": "execute_result"
    }
   ],
   "source": [
    "arr1 = np.arange(1,10) # 1D\n",
    "arr1.size"
   ]
  },
  {
   "cell_type": "code",
   "execution_count": 60,
   "id": "99fd4830",
   "metadata": {},
   "outputs": [
    {
     "name": "stdout",
     "output_type": "stream",
     "text": [
      "[[ 1  2  3  4]\n",
      " [ 5  6  7  8]\n",
      " [ 9 10 11 12]]\n",
      "12\n"
     ]
    }
   ],
   "source": [
    "arr1 = np.array([[1,2,3,4],[5,6,7,8],[9,10,11,12]]) # 2D\n",
    "print(arr1)\n",
    "print(arr1.size)"
   ]
  },
  {
   "cell_type": "code",
   "execution_count": 57,
   "id": "3739fd52",
   "metadata": {},
   "outputs": [
    {
     "name": "stdout",
     "output_type": "stream",
     "text": [
      "[[[ 1  2  3]\n",
      "  [ 4  5  6]]\n",
      "\n",
      " [[ 7  8  9]\n",
      "  [10 11 12]]]\n",
      "12\n"
     ]
    }
   ],
   "source": [
    "arr1 = np.array([[[1,2,3],[4,5,6]],[[7,8,9],[10,11,12]]]) # 3D array\n",
    "print(arr1)\n",
    "print(arr1.size)"
   ]
  },
  {
   "cell_type": "markdown",
   "id": "62ed49f4",
   "metadata": {},
   "source": [
    "#### 4) array.dtype\n",
    "- will return the data type of the elements present in array\n",
    "- by default data type will be float"
   ]
  },
  {
   "cell_type": "code",
   "execution_count": 62,
   "id": "cbff872b",
   "metadata": {},
   "outputs": [
    {
     "name": "stdout",
     "output_type": "stream",
     "text": [
      "[[ 1  2  3  4]\n",
      " [ 5  6  7  8]\n",
      " [ 9 10 11 12]]\n",
      "int32\n"
     ]
    }
   ],
   "source": [
    "arr1 = np.array([[1,2,3,4],[5,6,7,8],[9,10,11,12]]) # 2D\n",
    "print(arr1)\n",
    "print(arr1.dtype)"
   ]
  },
  {
   "cell_type": "code",
   "execution_count": 68,
   "id": "6c1bd4ff",
   "metadata": {},
   "outputs": [
    {
     "name": "stdout",
     "output_type": "stream",
     "text": [
      "[ 1.          2.11111111  3.22222222  4.33333333  5.44444444  6.55555556\n",
      "  7.66666667  8.77777778  9.88888889 11.        ]\n",
      "float64\n"
     ]
    }
   ],
   "source": [
    "arr1 = np.linspace(1,11,10)\n",
    "print(arr1)\n",
    "print(arr1.dtype)"
   ]
  },
  {
   "cell_type": "markdown",
   "id": "f09f40d3",
   "metadata": {},
   "source": [
    "__note**__\n",
    "- in float64, 64 refers to the size of an array.\n",
    "- 16bits == 2bytes, 32bits == 4bytes, 64bits == 8bytes"
   ]
  },
  {
   "cell_type": "markdown",
   "id": "f21011e8",
   "metadata": {},
   "source": [
    "#### 5) array.astype(type)\n",
    "- either you can set the data type while creating an array or you can change it using array.astype(type) function."
   ]
  },
  {
   "cell_type": "code",
   "execution_count": 76,
   "id": "4547bf6e",
   "metadata": {},
   "outputs": [
    {
     "name": "stdout",
     "output_type": "stream",
     "text": [
      "[[1. 0. 0. 0. 0.]\n",
      " [0. 1. 0. 0. 0.]\n",
      " [0. 0. 1. 0. 0.]\n",
      " [0. 0. 0. 1. 0.]\n",
      " [0. 0. 0. 0. 1.]]\n",
      "float64\n",
      "[[1 0 0 0 0]\n",
      " [0 1 0 0 0]\n",
      " [0 0 1 0 0]\n",
      " [0 0 0 1 0]\n",
      " [0 0 0 0 1]]\n",
      "int32\n"
     ]
    }
   ],
   "source": [
    "arr1 = np.eye(5)\n",
    "print(arr1)\n",
    "print(arr1.dtype)\n",
    "arr2 = arr1.astype(int)\n",
    "print(arr2)\n",
    "print(arr2.dtype)"
   ]
  },
  {
   "cell_type": "markdown",
   "id": "73b34d8b",
   "metadata": {},
   "source": [
    "#### 5) np.flip()\n",
    "- Flips order of elements in an array\n",
    "- equivalent to `array[::-1]`\n",
    "- `Syntax: np.flip(array)`"
   ]
  },
  {
   "cell_type": "code",
   "execution_count": 79,
   "id": "e0815b8c",
   "metadata": {},
   "outputs": [
    {
     "name": "stdout",
     "output_type": "stream",
     "text": [
      "[[ 1  2  3  4]\n",
      " [ 5  6  7  8]\n",
      " [ 9 10 11 12]]\n",
      "[[12 11 10  9]\n",
      " [ 8  7  6  5]\n",
      " [ 4  3  2  1]]\n"
     ]
    }
   ],
   "source": [
    "arr1 = np.array([[1,2,3,4],[5,6,7,8],[9,10,11,12]]) # 2D\n",
    "print(arr1)\n",
    "print(np.flip(arr1)) "
   ]
  },
  {
   "cell_type": "markdown",
   "id": "ce90d5a6",
   "metadata": {},
   "source": [
    "#### 6) array.flatten()\n",
    "- will flattens a n-Dimensional array in 1D array "
   ]
  },
  {
   "cell_type": "code",
   "execution_count": 80,
   "id": "17dc93d9",
   "metadata": {},
   "outputs": [
    {
     "data": {
      "text/plain": [
       "array([ 1,  2,  3,  4,  5,  6,  7,  8,  9, 10, 11, 12])"
      ]
     },
     "execution_count": 80,
     "metadata": {},
     "output_type": "execute_result"
    }
   ],
   "source": [
    "arr1 = np.array([[1,2,3,4],[5,6,7,8],[9,10,11,12]]) # 2D\n",
    "arr1.flatten()"
   ]
  },
  {
   "cell_type": "code",
   "execution_count": 81,
   "id": "6645b6c9",
   "metadata": {},
   "outputs": [
    {
     "data": {
      "text/plain": [
       "array([ 1,  2,  3,  4,  5,  6,  7,  8,  9, 10, 11, 12])"
      ]
     },
     "execution_count": 81,
     "metadata": {},
     "output_type": "execute_result"
    }
   ],
   "source": [
    "arr1 = np.array([[[1,2,3],[4,5,6]],[[7,8,9],[10,11,12]]]) # 3D array\n",
    "arr1.flatten()"
   ]
  },
  {
   "cell_type": "markdown",
   "id": "88d7351a",
   "metadata": {},
   "source": [
    "#### 7) np.transpose()\n",
    "- will transpose an array\n",
    "- we can use either `np.transpose(array)` or `array.T`"
   ]
  },
  {
   "cell_type": "code",
   "execution_count": 83,
   "id": "c614876e",
   "metadata": {},
   "outputs": [
    {
     "data": {
      "text/plain": [
       "array([[[ 1,  7],\n",
       "        [ 4, 10]],\n",
       "\n",
       "       [[ 2,  8],\n",
       "        [ 5, 11]],\n",
       "\n",
       "       [[ 3,  9],\n",
       "        [ 6, 12]]])"
      ]
     },
     "execution_count": 83,
     "metadata": {},
     "output_type": "execute_result"
    }
   ],
   "source": [
    "arr1 = np.array([[[1,2,3],[4,5,6]],[[7,8,9],[10,11,12]]]) # 3D array\n",
    "np.transpose(arr1)"
   ]
  },
  {
   "cell_type": "code",
   "execution_count": 84,
   "id": "484e174a",
   "metadata": {},
   "outputs": [
    {
     "data": {
      "text/plain": [
       "array([[[ 1,  7],\n",
       "        [ 4, 10]],\n",
       "\n",
       "       [[ 2,  8],\n",
       "        [ 5, 11]],\n",
       "\n",
       "       [[ 3,  9],\n",
       "        [ 6, 12]]])"
      ]
     },
     "execution_count": 84,
     "metadata": {},
     "output_type": "execute_result"
    }
   ],
   "source": [
    "# another way to transpose an array\n",
    "\n",
    "arr1 = np.array([[[1,2,3],[4,5,6]],[[7,8,9],[10,11,12]]]) # 3D array\n",
    "arr1.T"
   ]
  },
  {
   "cell_type": "markdown",
   "id": "7b5dc3da",
   "metadata": {},
   "source": [
    "__**other different functions__"
   ]
  },
  {
   "cell_type": "markdown",
   "id": "523d00b7",
   "metadata": {},
   "source": [
    "##### np.ceil()\n",
    "- rounds off an integer to nearest largest integer"
   ]
  },
  {
   "cell_type": "code",
   "execution_count": 87,
   "id": "b80e0800",
   "metadata": {},
   "outputs": [
    {
     "name": "stdout",
     "output_type": "stream",
     "text": [
      "5.0\n",
      "5.0\n",
      "5.0\n"
     ]
    }
   ],
   "source": [
    "print(np.ceil(4.1))\n",
    "print(np.ceil(4.5))\n",
    "print(np.ceil(4.7))"
   ]
  },
  {
   "cell_type": "markdown",
   "id": "af5e5616",
   "metadata": {},
   "source": [
    "##### np.floor()\n",
    "- rounds off an integer to the nearest smallest integer"
   ]
  },
  {
   "cell_type": "code",
   "execution_count": 88,
   "id": "a071b71c",
   "metadata": {},
   "outputs": [
    {
     "name": "stdout",
     "output_type": "stream",
     "text": [
      "4.0\n",
      "4.0\n",
      "4.0\n"
     ]
    }
   ],
   "source": [
    "print(np.floor(4.1))\n",
    "print(np.floor(4.5))\n",
    "print(np.floor(4.7))"
   ]
  },
  {
   "cell_type": "markdown",
   "id": "d6a8d713",
   "metadata": {},
   "source": [
    "##### np.around()\n",
    "- works as a roundoff function, rounds off an integer to the specified deccimal"
   ]
  },
  {
   "cell_type": "code",
   "execution_count": 91,
   "id": "b68663af",
   "metadata": {},
   "outputs": [
    {
     "name": "stdout",
     "output_type": "stream",
     "text": [
      "4.16\n"
     ]
    }
   ],
   "source": [
    "print(np.around(4.164754,2))"
   ]
  },
  {
   "cell_type": "markdown",
   "id": "4b81e2bf",
   "metadata": {},
   "source": [
    "#### 8) np.where()\n",
    "- python's numpy module provides a function np.where() to convert a numpy array to another numpy array based on the conditions and the values of two different sequences.\n",
    "- it's a conditional expression hat returns a numpy array of boolean.\n",
    "- if x and y both are passed in np.where() then it returns elements selected from x and y based on the condition on original array and returns a new numpy array by selecting items from x and y.\n",
    "- if x and y arguments are not passed and only conditional argument is passed then it returns indexes of elements that satisfies the condition.\n",
    "- we can convert it into list also\n",
    "- `Syntax: np.where(condition[,x,y])`"
   ]
  },
  {
   "cell_type": "code",
   "execution_count": 96,
   "id": "e7fca487",
   "metadata": {},
   "outputs": [
    {
     "name": "stdout",
     "output_type": "stream",
     "text": [
      "[2 3 4 5 6 7 8 4 5 5 7 7]\n"
     ]
    },
    {
     "data": {
      "text/plain": [
       "[2, 7]"
      ]
     },
     "execution_count": 96,
     "metadata": {},
     "output_type": "execute_result"
    }
   ],
   "source": [
    "arr1 = np.array([2,3,4,5,6,7,8,4,5,5,7,7])\n",
    "print(arr1)\n",
    "arr2 = np.where(arr1 == 4)[0].tolist()\n",
    "arr2"
   ]
  },
  {
   "cell_type": "code",
   "execution_count": 97,
   "id": "6234e2ff",
   "metadata": {},
   "outputs": [
    {
     "name": "stdout",
     "output_type": "stream",
     "text": [
      "[2 3 4 5 6 7 8 4 5 5 7 7]\n"
     ]
    },
    {
     "data": {
      "text/plain": [
       "[4, 5, 6, 10, 11]"
      ]
     },
     "execution_count": 97,
     "metadata": {},
     "output_type": "execute_result"
    }
   ],
   "source": [
    "arr1 = np.array([2,3,4,5,6,7,8,4,5,5,7,7])\n",
    "print(arr1)\n",
    "arr2 = np.where(arr1 >= 6)[0].tolist()\n",
    "arr2"
   ]
  },
  {
   "cell_type": "code",
   "execution_count": 99,
   "id": "7c2e18ad",
   "metadata": {},
   "outputs": [
    {
     "name": "stdout",
     "output_type": "stream",
     "text": [
      "[2 3 4 5 6 7 8 4 5 5 7 7]\n"
     ]
    },
    {
     "data": {
      "text/plain": [
       "[0, 1, 3, 4, 5, 6, 8, 9, 10, 11]"
      ]
     },
     "execution_count": 99,
     "metadata": {},
     "output_type": "execute_result"
    }
   ],
   "source": [
    "arr1 = np.array([2,3,4,5,6,7,8,4,5,5,7,7])\n",
    "print(arr1)\n",
    "arr2 = np.where(arr1 != 4)[0].tolist() # converting it to list\n",
    "arr2"
   ]
  },
  {
   "cell_type": "code",
   "execution_count": 109,
   "id": "78e0cc0a",
   "metadata": {},
   "outputs": [],
   "source": [
    "# we want to convert below numpy array to another numpy array with same size where it contains values from below two lists.\n",
    "# if value is less than 12 then it should be replaced with 'low' and if it is greater than 12 then it should be replaced with 'high'\n",
    "arr1 = np.array([11,12,13,14])\n",
    "\n",
    "high_values = ['high','high','high','high']\n",
    "low_values = ['low','low','low','low']"
   ]
  },
  {
   "cell_type": "code",
   "execution_count": 110,
   "id": "26530056",
   "metadata": {},
   "outputs": [
    {
     "name": "stdout",
     "output_type": "stream",
     "text": [
      "[False False  True  True]\n"
     ]
    },
    {
     "data": {
      "text/plain": [
       "array(['low', 'low', 'high', 'high'], dtype='<U4')"
      ]
     },
     "execution_count": 110,
     "metadata": {},
     "output_type": "execute_result"
    }
   ],
   "source": [
    "print(arr1>12) # it will return a list of boolean values\n",
    "\n",
    "new_arr = np.where(arr1>12,high_values,low_values) # Creating a new array\n",
    "new_arr"
   ]
  },
  {
   "cell_type": "code",
   "execution_count": 104,
   "id": "75c249f5",
   "metadata": {},
   "outputs": [
    {
     "data": {
      "text/plain": [
       "array(['low', 'low', 'high', 'high', 'low', 'low'], dtype='<U4')"
      ]
     },
     "execution_count": 104,
     "metadata": {},
     "output_type": "execute_result"
    }
   ],
   "source": [
    "# can provide multiple conditions using operators\n",
    "\n",
    "high_values = ['high','high','high','high','high','high']\n",
    "low_values = ['low','low','low','low','low','low']\n",
    "\n",
    "arr1 = np.array([11,12,14,15,16,17])\n",
    "new_arr= np.where((arr1>12) & (arr1<16),high_values,low_values)\n",
    "new_arr"
   ]
  },
  {
   "cell_type": "code",
   "execution_count": 107,
   "id": "e6105d60",
   "metadata": {},
   "outputs": [
    {
     "data": {
      "text/plain": [
       "(array([2, 3], dtype=int64),)"
      ]
     },
     "execution_count": 107,
     "metadata": {},
     "output_type": "execute_result"
    }
   ],
   "source": [
    "#when we do not provide x and y arguments, it will return a numpy array having indexces of the elements where condition satisfies\n",
    "\n",
    "new_arr= np.where((arr1>12) & (arr1<16))\n",
    "new_arr "
   ]
  },
  {
   "cell_type": "markdown",
   "id": "e9d620a3",
   "metadata": {},
   "source": [
    "### Mathematical operations on numpy array\n",
    "- Numpy performs numeric operations elementwise\n",
    "\n",
    "__broadcasting numpy__\n",
    "- `Why is broadcasting used in NumPy?`\n",
    "\n",
    "Broadcasting solves the problem of arithmetic between arrays of differing shapes by in effect replicating the smaller array along the last mismatched dimension."
   ]
  },
  {
   "cell_type": "code",
   "execution_count": 111,
   "id": "fcba2f46",
   "metadata": {},
   "outputs": [
    {
     "data": {
      "text/plain": [
       "array([22, 34, 36, 20, 36, 24, 20, 28, 38, 22])"
      ]
     },
     "execution_count": 111,
     "metadata": {},
     "output_type": "execute_result"
    }
   ],
   "source": [
    "array = np.random.randint(10, 20, size = 10)\n",
    "array*2 # vector and scalar elementwise multiplication"
   ]
  },
  {
   "cell_type": "markdown",
   "id": "eb830e33",
   "metadata": {},
   "source": [
    "#### 1) np.add()\n",
    "- `Syntax: np.add(array1,array2)`"
   ]
  },
  {
   "cell_type": "code",
   "execution_count": 112,
   "id": "75d2d127",
   "metadata": {},
   "outputs": [
    {
     "name": "stdout",
     "output_type": "stream",
     "text": [
      "Array 1 \n",
      " [[2 3]\n",
      " [4 5]]\n",
      "Array 2 \n",
      " [[100 200]\n",
      " [400 500]]\n"
     ]
    },
    {
     "data": {
      "text/plain": [
       "array([[102, 203],\n",
       "       [404, 505]])"
      ]
     },
     "execution_count": 112,
     "metadata": {},
     "output_type": "execute_result"
    }
   ],
   "source": [
    "# Basic way\n",
    "\n",
    "array1 = np.array([[2,3],[4,5]])\n",
    "print('Array 1 \\n', array1)\n",
    "\n",
    "array2 = np.array([[100,200], [400,500]])\n",
    "print('Array 2 \\n', array2)\n",
    "\n",
    "new_array  = array1 + array\n",
    "new_array"
   ]
  },
  {
   "cell_type": "code",
   "execution_count": 113,
   "id": "1e75d36e",
   "metadata": {},
   "outputs": [
    {
     "data": {
      "text/plain": [
       "array([[102, 203],\n",
       "       [404, 505]])"
      ]
     },
     "execution_count": 113,
     "metadata": {},
     "output_type": "execute_result"
    }
   ],
   "source": [
    "# Using np.add() function\n",
    "\n",
    "np.add(array1,array2)"
   ]
  },
  {
   "cell_type": "markdown",
   "id": "6b7d1b87",
   "metadata": {},
   "source": [
    "#### 2) np.multiply()\n",
    "- `Syntax: np.multiply(array1,array2)`"
   ]
  },
  {
   "cell_type": "code",
   "execution_count": 10,
   "id": "418dd4df",
   "metadata": {},
   "outputs": [
    {
     "data": {
      "text/plain": [
       "array([[ 200,  600],\n",
       "       [1600, 2500]])"
      ]
     },
     "execution_count": 10,
     "metadata": {},
     "output_type": "execute_result"
    }
   ],
   "source": [
    "np.multiply(array1,array2)"
   ]
  },
  {
   "cell_type": "markdown",
   "id": "f598fa8c",
   "metadata": {},
   "source": [
    "___dot product___\n",
    "- The main difference between the dot product and the cross product of two vectors is that the result of the dot product is a scalar quantity, whereas the result of the cross product is a vector quantity."
   ]
  },
  {
   "cell_type": "code",
   "execution_count": 11,
   "id": "20a80dc2",
   "metadata": {},
   "outputs": [
    {
     "data": {
      "text/plain": [
       "array([[1400, 1900],\n",
       "       [2400, 3300]])"
      ]
     },
     "execution_count": 11,
     "metadata": {},
     "output_type": "execute_result"
    }
   ],
   "source": [
    "result = np.dot(array1,array2)\n",
    "result"
   ]
  },
  {
   "cell_type": "markdown",
   "id": "96a64186",
   "metadata": {},
   "source": [
    "___cross product___"
   ]
  },
  {
   "cell_type": "code",
   "execution_count": 12,
   "id": "03d07a2d",
   "metadata": {},
   "outputs": [
    {
     "data": {
      "text/plain": [
       "array([100,   0])"
      ]
     },
     "execution_count": 12,
     "metadata": {},
     "output_type": "execute_result"
    }
   ],
   "source": [
    "result = np.cross(array1,array2)\n",
    "result"
   ]
  },
  {
   "cell_type": "markdown",
   "id": "33f0d790",
   "metadata": {},
   "source": [
    "### Statistical operations on numpy array"
   ]
  },
  {
   "cell_type": "markdown",
   "id": "111659d2",
   "metadata": {},
   "source": [
    "#### 1) np.mean()\n",
    "- mean is nothing but addition of all the elements divided by total number of elements\n",
    "- `Syntax: np.mean(array)`"
   ]
  },
  {
   "cell_type": "code",
   "execution_count": 131,
   "id": "ab65879a",
   "metadata": {},
   "outputs": [
    {
     "data": {
      "text/plain": [
       "14.428571428571429"
      ]
     },
     "execution_count": 131,
     "metadata": {},
     "output_type": "execute_result"
    }
   ],
   "source": [
    "array1 = np.random.randint(10,20, size = 7)\n",
    "mean = np.mean(array1)\n",
    "mean"
   ]
  },
  {
   "cell_type": "markdown",
   "id": "21b436dc",
   "metadata": {},
   "source": [
    "#### 2) np.median()\n",
    "- The median is the middle number in a sorted, ascending or descending, list of numbers\n",
    "- `Syntax: np.median(array)`"
   ]
  },
  {
   "cell_type": "code",
   "execution_count": 132,
   "id": "61841a49",
   "metadata": {},
   "outputs": [
    {
     "data": {
      "text/plain": [
       "14.0"
      ]
     },
     "execution_count": 132,
     "metadata": {},
     "output_type": "execute_result"
    }
   ],
   "source": [
    "np.median(array1)"
   ]
  },
  {
   "cell_type": "markdown",
   "id": "a87bb431",
   "metadata": {},
   "source": [
    "#### 3) np.mode()\n",
    "- Mode is defined as the value that is repeatedly occurring in a given set.\n",
    "- to use mode function import stats from scipy library.\n",
    "- `Syntax: np.mode(array)`"
   ]
  },
  {
   "cell_type": "code",
   "execution_count": 133,
   "id": "444eda26",
   "metadata": {},
   "outputs": [],
   "source": [
    "from scipy import stats"
   ]
  },
  {
   "cell_type": "code",
   "execution_count": 134,
   "id": "46c31555",
   "metadata": {},
   "outputs": [
    {
     "data": {
      "text/plain": [
       "ModeResult(mode=array([13]), count=array([3]))"
      ]
     },
     "execution_count": 134,
     "metadata": {},
     "output_type": "execute_result"
    }
   ],
   "source": [
    "stats.mode(array1) # Returns mode and count of that value"
   ]
  },
  {
   "attachments": {
    "std.jpg": {
     "image/jpeg": "[encoded data removed]"
    }
   },
   "cell_type": "markdown",
   "id": "9f80adb2",
   "metadata": {},
   "source": [
    "#### 4) np.std()\n",
    "'What is standard deviation?''\n",
    "- A standard deviation (or σ) is a measure of how dispersed the data is in relation to the mean.\n",
    "![std.jpg](attachment:std.jpg)"
   ]
  },
  {
   "cell_type": "code",
   "execution_count": 135,
   "id": "3e8c9472",
   "metadata": {},
   "outputs": [
    {
     "data": {
      "text/plain": [
       "1.6781914463529615"
      ]
     },
     "execution_count": 135,
     "metadata": {},
     "output_type": "execute_result"
    }
   ],
   "source": [
    "np.std(array1)"
   ]
  },
  {
   "cell_type": "markdown",
   "id": "dd8149e1",
   "metadata": {},
   "source": [
    "#### 5) np.var()\n",
    "`what is variance?`\n",
    "- Variance tells you the degree of spread in your data set. The more spread the data, the larger the variance is in relation to the mean.\n",
    "- variance is nothing but square of standard deviation."
   ]
  },
  {
   "cell_type": "code",
   "execution_count": 136,
   "id": "b25b0961",
   "metadata": {},
   "outputs": [
    {
     "data": {
      "text/plain": [
       "2.816326530612245"
      ]
     },
     "execution_count": 136,
     "metadata": {},
     "output_type": "execute_result"
    }
   ],
   "source": [
    "np.var(array1)"
   ]
  },
  {
   "cell_type": "markdown",
   "id": "86470da2",
   "metadata": {},
   "source": [
    "#### 6) np.min()\n",
    "- returns the minimum value in array"
   ]
  },
  {
   "cell_type": "code",
   "execution_count": 145,
   "id": "dea7e569",
   "metadata": {},
   "outputs": [
    {
     "data": {
      "text/plain": [
       "17"
      ]
     },
     "execution_count": 145,
     "metadata": {},
     "output_type": "execute_result"
    }
   ],
   "source": [
    "np.max(array1)"
   ]
  },
  {
   "cell_type": "markdown",
   "id": "3b758935",
   "metadata": {},
   "source": [
    "#### 7) np.cumsum()\n",
    "`What is the difference between sum and cumulative sum?`\n",
    "- With sum, you take a certain number of values and perform a sum to get the total. Cumsum is the cumulative sum of differences between the values."
   ]
  },
  {
   "cell_type": "code",
   "execution_count": 146,
   "id": "5a6376dd",
   "metadata": {},
   "outputs": [
    {
     "data": {
      "text/plain": [
       "array([ 14,  28,  45,  58,  75,  88, 101], dtype=int32)"
      ]
     },
     "execution_count": 146,
     "metadata": {},
     "output_type": "execute_result"
    }
   ],
   "source": [
    "np.cumsum(array1)"
   ]
  },
  {
   "cell_type": "code",
   "execution_count": 147,
   "id": "1f0f66a7",
   "metadata": {},
   "outputs": [
    {
     "data": {
      "text/plain": [
       "101"
      ]
     },
     "execution_count": 147,
     "metadata": {},
     "output_type": "execute_result"
    }
   ],
   "source": [
    "np.sum(array1)"
   ]
  },
  {
   "cell_type": "markdown",
   "id": "6a1ad5f6",
   "metadata": {},
   "source": [
    "#### 8) np.log()\n",
    "- it will return natural log of the element.\n",
    "- natural log is nothing but a `log base e` which is denoted by `ln`"
   ]
  },
  {
   "cell_type": "code",
   "execution_count": 148,
   "id": "409b6297",
   "metadata": {},
   "outputs": [
    {
     "data": {
      "text/plain": [
       "2.302585092994046"
      ]
     },
     "execution_count": 148,
     "metadata": {},
     "output_type": "execute_result"
    }
   ],
   "source": [
    "np.log(10) # Natural log base e"
   ]
  },
  {
   "cell_type": "code",
   "execution_count": 149,
   "id": "0228bfda",
   "metadata": {},
   "outputs": [
    {
     "data": {
      "text/plain": [
       "1.3617278360175928"
      ]
     },
     "execution_count": 149,
     "metadata": {},
     "output_type": "execute_result"
    }
   ],
   "source": [
    "np.log10(23) # Log base 10"
   ]
  },
  {
   "cell_type": "code",
   "execution_count": 151,
   "id": "8a49164f",
   "metadata": {},
   "outputs": [
    {
     "data": {
      "text/plain": [
       "array([3.32192809, 4.52356196, 5.08746284, 5.80735492, 1.5849625 ,\n",
       "       2.        , 2.32192809, 2.5849625 ])"
      ]
     },
     "execution_count": 151,
     "metadata": {},
     "output_type": "execute_result"
    }
   ],
   "source": [
    "array = np.log2([10,23,34,56,3,4,5,6]) # log base 2\n",
    "array"
   ]
  },
  {
   "cell_type": "markdown",
   "id": "9a43d2af",
   "metadata": {},
   "source": [
    "___calculating value of pi___"
   ]
  },
  {
   "cell_type": "code",
   "execution_count": 152,
   "id": "3868c383",
   "metadata": {},
   "outputs": [
    {
     "data": {
      "text/plain": [
       "3.141592653589793"
      ]
     },
     "execution_count": 152,
     "metadata": {},
     "output_type": "execute_result"
    }
   ],
   "source": [
    "np.pi"
   ]
  },
  {
   "cell_type": "markdown",
   "id": "78e679e1",
   "metadata": {},
   "source": [
    "### Trignomatric operations on numpy array"
   ]
  },
  {
   "cell_type": "code",
   "execution_count": 153,
   "id": "e101f3d9",
   "metadata": {},
   "outputs": [],
   "source": [
    "# you can not use like this.. to calculate the value of sin degree you have to convert it into radian \n",
    "# np.sin(30)"
   ]
  },
  {
   "cell_type": "markdown",
   "id": "f68a61a5",
   "metadata": {},
   "source": [
    "#### 1) np.deg2rad()\n",
    "- converts degree to radian"
   ]
  },
  {
   "cell_type": "code",
   "execution_count": 29,
   "id": "11a91ebd",
   "metadata": {},
   "outputs": [
    {
     "data": {
      "text/plain": [
       "0.49999999999999994"
      ]
     },
     "execution_count": 29,
     "metadata": {},
     "output_type": "execute_result"
    }
   ],
   "source": [
    "np.sin(np.deg2rad(30))"
   ]
  },
  {
   "cell_type": "markdown",
   "id": "caa968e1",
   "metadata": {},
   "source": [
    "#### 2) np.rad2deg()\n",
    "- converts radian to degree"
   ]
  },
  {
   "cell_type": "code",
   "execution_count": 34,
   "id": "2469cae5",
   "metadata": {},
   "outputs": [
    {
     "data": {
      "text/plain": [
       "30.0000002521989"
      ]
     },
     "execution_count": 34,
     "metadata": {},
     "output_type": "execute_result"
    }
   ],
   "source": [
    "np.rad2deg(0.52359878)"
   ]
  },
  {
   "cell_type": "markdown",
   "id": "18c17b9f",
   "metadata": {},
   "source": [
    "### Linear algebra operations on array"
   ]
  },
  {
   "cell_type": "code",
   "execution_count": 154,
   "id": "97ffeb0d",
   "metadata": {},
   "outputs": [],
   "source": [
    "# 3x + 2y = 15\n",
    "# 4x + 6y = 30"
   ]
  },
  {
   "cell_type": "code",
   "execution_count": 36,
   "id": "a3adbab9",
   "metadata": {},
   "outputs": [
    {
     "name": "stdout",
     "output_type": "stream",
     "text": [
      "Array A is : \n",
      " [[3 2]\n",
      " [4 6]]\n",
      "Array B is : \n",
      " [15 30]\n"
     ]
    }
   ],
   "source": [
    "array_A = np.array([[3,2],[4,6]])\n",
    "print('Array A is : \\n',array_A )\n",
    "\n",
    "array_B = np.array([15,30])\n",
    "print('Array B is : \\n',array_B )"
   ]
  },
  {
   "cell_type": "code",
   "execution_count": 37,
   "id": "6a7f4d6c",
   "metadata": {},
   "outputs": [
    {
     "name": "stdout",
     "output_type": "stream",
     "text": [
      "Result is : [3. 3.]\n"
     ]
    }
   ],
   "source": [
    "result = np.linalg.solve(array_A,array_B)\n",
    "print('Result is :', result)"
   ]
  },
  {
   "cell_type": "code",
   "execution_count": null,
   "id": "de062e33",
   "metadata": {},
   "outputs": [],
   "source": [
    "3x + 5y + 10z = 20\n",
    "4x + 7y + 13z = 30\n",
    "2x + 17y + 3z = 40"
   ]
  },
  {
   "cell_type": "code",
   "execution_count": 45,
   "id": "b5cad9a5",
   "metadata": {},
   "outputs": [],
   "source": [
    "array1 = ([[3,5,10],[4,7,13],[2,17,3]])\n",
    "array2 = ([20,30,40])"
   ]
  },
  {
   "cell_type": "code",
   "execution_count": 46,
   "id": "7d015982",
   "metadata": {},
   "outputs": [
    {
     "name": "stdout",
     "output_type": "stream",
     "text": [
      "Result is : [ 45.  -1. -11.]\n"
     ]
    }
   ],
   "source": [
    "result = np.linalg.solve(array1,array2)\n",
    "print('Result is :', result)"
   ]
  },
  {
   "cell_type": "code",
   "execution_count": 47,
   "id": "9d8587a6",
   "metadata": {},
   "outputs": [
    {
     "data": {
      "text/plain": [
       "array([[ 0.6, -0.2],\n",
       "       [-0.4,  0.3]])"
      ]
     },
     "execution_count": 47,
     "metadata": {},
     "output_type": "execute_result"
    }
   ],
   "source": [
    "array_A = np.array([[3,2],[4,6]])\n",
    "\n",
    "np.linalg.inv(array_A)"
   ]
  }
 ],
 "metadata": {
  "kernelspec": {
   "display_name": "Python 3 (ipykernel)",
   "language": "python",
   "name": "python3"
  },
  "language_info": {
   "codemirror_mode": {
    "name": "ipython",
    "version": 3
   },
   "file_extension": ".py",
   "mimetype": "text/x-python",
   "name": "python",
   "nbconvert_exporter": "python",
   "pygments_lexer": "ipython3",
   "version": "3.9.12"
  }
 },
 "nbformat": 4,
 "nbformat_minor": 5
}
